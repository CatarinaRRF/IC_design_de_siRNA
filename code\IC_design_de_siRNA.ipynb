{
  "nbformat": 4,
  "nbformat_minor": 0,
  "metadata": {
    "colab": {
      "provenance": [],
      "collapsed_sections": [
        "XgQumBHZUa4E"
      ],
      "authorship_tag": "ABX9TyNdkvvUYTNdM1ALbyIFtpgC",
      "include_colab_link": true
    },
    "kernelspec": {
      "name": "python3",
      "display_name": "Python 3"
    },
    "language_info": {
      "name": "python"
    }
  },
  "cells": [
    {
      "cell_type": "markdown",
      "metadata": {
        "id": "view-in-github",
        "colab_type": "text"
      },
      "source": [
        "<a href=\"https://colab.research.google.com/github/CatarinaRRF/IC_design_de_siRNA/blob/main/code%5CIC_design_de_siRNA.ipynb\" target=\"_parent\"><img src=\"https://colab.research.google.com/assets/colab-badge.svg\" alt=\"Open In Colab\"/></a>"
      ]
    },
    {
      "cell_type": "markdown",
      "source": [
        "# <b><font color=2C3E50> IC - Design de siRNA</a></font></b>\n",
        "<hr color ='2C3E50' size=\"10\">"
      ],
      "metadata": {
        "id": "hIAEY7l_ZH45"
      }
    },
    {
      "cell_type": "markdown",
      "source": [
        "<font color=RED><b>O que precisa ser feito</b></font>\n",
        "<hr>\n",
        "\n",
        "* Integrar o blast\n",
        "* Criar um dataset com as sequencias e seus score\n",
        "\n",
        "<font color=RED><b>Erros e duvidas</b></font>\n",
        "<hr>\n",
        "\n",
        "* O RNA é complementar ou não?\n",
        "* No blast se coloca a sequencia de siRNA já pronta ou coloca a sequencia de DNA não alterada?\n",
        "* Quais parametros do Blast devem ser mantidas\n",
        "* Quais seriam os parâmetros que seriam alterados caso se queira sequência de siRNA para pareamento em local específico ou outra característica específica ( modificado normalmente nos parâmetros de busca no Whitehead ou no Blast)\n",
        "* <b>Porque as temperaturas de melting estão dando todas >40 </b>\n",
        "\n"
      ],
      "metadata": {
        "id": "CFNQiiVyu0Uf"
      }
    },
    {
      "cell_type": "markdown",
      "source": [
        "## <font color=2C3E50><b> 01. Introdução</b>"
      ],
      "metadata": {
        "id": "XgQumBHZUa4E"
      }
    },
    {
      "cell_type": "markdown",
      "source": [
        "Com a crescente importância das pesquisas em biologia molecular e terapia genética, a identificação e seleção eficiente de pequenas moléculas de RNA interferente (siRNA) tornaram-se cruciais para a regulação precisa da expressão gênica. Neste contexto, é preciso criar um algoritmo que automatize e melhore a seleção de siRNA.\n",
        "\n",
        "O algoritimo que será desenvolido utilizará do banco de dados mantido pelo NCBI <i>gene</i> onde, a partir dos arquivos inseridos pelo usuario, será analizado a viabilidade dos possiveis siRNA produzidos. Terá então 9 etapas principais, resumidas a seguir:\n",
        "\n",
        "<br>\n",
        "\n",
        "<img style=\"display: inline; margin: 15px 0;\" title=\"heartica_logo\" src= https://raw.githubusercontent.com/CatarinaRRF/IC_design_de_siRNA/main/media/algoritimo_siRNA.png alt=\"\" />\n",
        "\n",
        "<b>Etapa 1: Entrada de Dados</b>\n",
        "\n",
        "O algoritmo recebe um arquivo FASTA inserido pelo usuario contendo sequências de DNA que se deseja analisar. Cada sequência no arquivo FASTA é identificada por um cabeçalho (linha que começa com \">\") e é seguida pela própria sequência.\n",
        "\n",
        "<b>Etapa 2: Transcrição das Sequências de DNA</b>\n",
        "\n",
        "Para a sequência de DNA encontrada no arquivo FASTA, o algoritmo realiza a transcrição, convertendo a sequência de DNA em uma sequência de RNA complementar.\n",
        "\n",
        "<b>Etapa 3: Identificação de siRNA</b>\n",
        "\n",
        "O algoritmo procura na sequência de RNA resultante por potenciais sequências de 22pb que serão potenciais siRNA.\n",
        "\n",
        "<b>Etapa 4: Verificação da Qualidade do siRNA</b>\n",
        "\n",
        "Cada sequência de siRNA identificada é submetida a uma análise de qualidade. Isso pode incluir a verificação da estrutura secundária, conteúdo de GC, estabilidade termodinâmica, e de posições de nucleotidios indicadas de acordo com a literatura consutada.\n",
        "\n",
        "<b>Etapa 5: Excluir siRNA que não se enquadram nos critérios</b>\n",
        "\n",
        "Os siRNAs que não atendem aos critérios de qualidade são excluídos da análise subsequente.\n",
        "\n",
        "<b>Etapa 6: Execução do BLAST</b>\n",
        "\n",
        "Para cada siRNA de qualidade, o algoritmo executa uma busca BLAST em um banco de dados de referência para encontrar alvos potenciais no transcriptoma. O BLAST ajuda a identificar possíveis correspondências com sequências conhecidas.\n",
        "\n",
        "<b>Etapa 7: Extração de Informações do BLAST</b>\n",
        "\n",
        "Após a execução do BLAST, o algoritmo extrai informações relevantes, como a sequência do alvo, o score do alinhamento e outros parâmetros importantes.\n",
        "\n",
        "<b>Etapa 8: Criação de Tabela de Resultados</b>\n",
        "\n",
        "Com as informações extraídas do BLAST, o algoritmo cria uma tabela de resultados que pode ser usada para análise posterior. Esta tabela inclui a sequência de siRNA, o score do BLAST, o algoritmo realiza a transcrição, convertendo a sequência de DNA em uma sequência de RNA complementar.\n",
        "\n",
        "<b>Etapa 9: Fim</b>\n",
        "\n",
        "O algoritmo conclui a análise das sequências de DNA, fornecendo uma tabela de resultados que pode ser usada para inferir a função ou alvo dos siRNAs identificados.\n",
        "\n"
      ],
      "metadata": {
        "id": "yBXt0VCVkad3"
      }
    },
    {
      "cell_type": "markdown",
      "source": [
        "## <font color=2C3E50><b> 02.Buscando a sequencia do Gene</b>\n",
        "\n"
      ],
      "metadata": {
        "id": "XUZGx3UHm-OQ"
      }
    },
    {
      "cell_type": "markdown",
      "source": [
        "Bloco de código onde o usuário adiciona o aquivo fasta baixado do NCBI, logo em seguida, será exibido detalhes do genes"
      ],
      "metadata": {
        "id": "yLVmUNTOofKX"
      }
    },
    {
      "cell_type": "markdown",
      "source": [
        "<font color=82D712><b>Importando Bibliotecas"
      ],
      "metadata": {
        "id": "a16tZKH4pLOd"
      }
    },
    {
      "cell_type": "code",
      "source": [
        "pip install biopython"
      ],
      "metadata": {
        "colab": {
          "base_uri": "https://localhost:8080/"
        },
        "id": "XV6GGbEXXCAk",
        "outputId": "a3006b43-4711-470c-aade-57f0f4a6f2b8"
      },
      "execution_count": 1,
      "outputs": [
        {
          "output_type": "stream",
          "name": "stdout",
          "text": [
            "Requirement already satisfied: biopython in /usr/local/lib/python3.10/dist-packages (1.81)\n",
            "Requirement already satisfied: numpy in /usr/local/lib/python3.10/dist-packages (from biopython) (1.23.5)\n"
          ]
        }
      ]
    },
    {
      "cell_type": "code",
      "source": [
        "import Bio\n",
        "from Bio import Entrez\n",
        "from Bio import SeqIO\n",
        "from Bio.Seq import Seq"
      ],
      "metadata": {
        "id": "5czcPOfzVrt3"
      },
      "execution_count": 2,
      "outputs": []
    },
    {
      "cell_type": "markdown",
      "source": [
        "###<font color=82D712><b> Insirindo os dados"
      ],
      "metadata": {
        "id": "KH-VMiIXL-E8"
      }
    },
    {
      "cell_type": "code",
      "source": [
        "from Bio import SeqIO\n",
        "\n",
        "# selecionar o arquivo FASTA\n",
        "nome_arquivo = \"/content/sequence.fasta\"\n",
        "\n",
        "try:\n",
        "    # Le o arquivo FASTA e armazena as sequencias em uma lista\n",
        "    sequencias = list(SeqIO.parse(nome_arquivo, 'fasta'))\n",
        "\n",
        "    # Verifica se o arquivo nao está vazio\n",
        "    if len(sequencias) > 0:\n",
        "        # Define o nome do arquivo de saída\n",
        "        nome_arquivo_saida = 'meugene.fasta'\n",
        "\n",
        "        # Salva as sequencias no arquivo de saida\n",
        "        SeqIO.write(sequencias, nome_arquivo_saida, 'fasta')\n",
        "        print(f'O arquivo {nome_arquivo} foi salvo como {nome_arquivo_saida}.')\n",
        "\n",
        "        # Exibe os dados das sequencias para o usuario\n",
        "        for sequencia in sequencias:\n",
        "            print()\n",
        "            print(\"*\"*28, 'Informações', \"*\"*28)\n",
        "            print(f'Nome: {sequencia.name}')\n",
        "            print(f'Descrição: {sequencia.description}')\n",
        "            print(f'Tamanho: {len(sequencia.seq)}')\n",
        "\n",
        "            # Converte as letras T para U\n",
        "            a = sequencia.seq.reverse_complement()\n",
        "            sequencia_convertida = Bio.Seq.transcribe(a)\n",
        "\n",
        "            print()\n",
        "            print(\"*\"*28, 'Sequências', \"*\"*28)\n",
        "            print(f'* Sequência de DNA:\\n {sequencia.seq}')\n",
        "            print(f'\\n* RNA complementar reverso:\\n {sequencia_convertida}')\n",
        "    else:\n",
        "        print('O arquivo FASTA está vazio.')\n",
        "except Exception as e:\n",
        "    print(f'Ocorreu um erro ao ler o arquivo FASTA: {str(e)}')"
      ],
      "metadata": {
        "colab": {
          "base_uri": "https://localhost:8080/"
        },
        "id": "ZgPSkaEYg3FV",
        "outputId": "affcef8e-c7fe-4815-f5ed-a2296d826479"
      },
      "execution_count": 3,
      "outputs": [
        {
          "output_type": "stream",
          "name": "stdout",
          "text": [
            "O arquivo /content/sequence.fasta foi salvo como meugene.fasta.\n",
            "\n",
            "**************************** Informações ****************************\n",
            "Nome: NM_004502.4\n",
            "Descrição: NM_004502.4 Homo sapiens homeobox B7 (HOXB7), mRNA\n",
            "Tamanho: 1363\n",
            "\n",
            "**************************** Sequências ****************************\n",
            "* Sequência de DNA:\n",
            " CTTTTTGGTGTAAATCTGGACTCTAATTCTGTAATATATCAAGGAATCTCGTAAAACCGACACTAAAACGTCCCTGCCTACAAATCATCCGGCCAAATTATGAGTTCATTGTATTATGCGAATACTTTATTTTCTAAATATCCAGCCTCAAGTTCGGTTTTCGCTACCGGAGCCTTCCCAGAACAAACTTCTTGTGCGTTTGCTTCCAACCCCCAGCGCCCGGGCTATGGAGCGGGTTCGGGCGCTTCCTTCGCCGCCTCGATGCAGGGCTTGTACCCCGGCGGGGGGGGCATGGCGGGCCAGAGCGCGGCCGGCGTCTACGCGGCCGGCTATGGGCTCGAGCCGAGTTCCTTCAACATGCACTGCGCGCCCTTTGAGCAGAACCTCTCCGGGGTGTGTCCCGGCGACTCCGCCAAGGCGGCGGGCGCCAAGGAGCAGAGGGACTCGGACTTGGCGGCCGAGAGTAACTTCCGGATCTACCCCTGGATGCGAAGCTCAGGAACTGACCGCAAACGAGGCCGCCAGACCTACACCCGCTACCAGACCCTGGAGCTGGAGAAAGAATTTCACTACAATCGCTACCTGACGCGGCGGCGGCGCATCGAGATCGCGCACACGCTCTGCCTCACGGAAAGACAGATCAAGATTTGGTTTCAGAACCGGCGCATGAAGTGGAAAAAGGAGAACAAGACCGCGGGCCCGGGGACCACCGGCCAAGACAGGGCTGAAGCAGAGGAGGAAGAGGAAGAGTGAGGGATGGAGAAAGGGCAGAGGAAGAGACATGAGAAAGGGAGAGGAAGAGAAGCCCAGCTCTGGGAACTGAATCAGGAAACTCAAATCGAATAGGGAAGTAAAAAAACAAAACAAAAAACAAAAAAAACAAAAAAAAAACCCTATTTAAATGAAAGGAGTTTAAAAACATTTTTTAAGGAGGGAGAAAGGAGAAATTTTGGTTTTTCAACACTGAAAAAATACTACCTATAGGAAAGTCTGTCAGGTTTGGTTTTTTTGTACAATATGAAAAGGATATTATCTACCTGTTCTGTAGCTTTCTGGAATTTACCTCCCCTTTTCTATGTTGCTATTGTAAGGTCTTTGTAAAATCTTGCAGTTTTGTAAGCCCTCTTTAATGCTGTCTTTGTGGACTGTGGGTCTGGACTAACCCTGTGGTTGCCTGCCCTCCTGAGCCTCCGCCTTCCCAGCAGCGGCACCAAGGGGCCTTAGGGAGCCCCAAAACCTACCACTCGCGTGTTCCCCAAGCGCCTGGCTGCTGCTTCTTGCTTCCCGTCCCCCAGCCCCATGCTCCCTTTTACATTCTGTGTGTATCTAAAGGATGGAAAAATAAAACGCAATTAAAAATAAA\n",
            "\n",
            "* RNA complementar reverso:\n",
            " UUUAUUUUUAAUUGCGUUUUAUUUUUCCAUCCUUUAGAUACACACAGAAUGUAAAAGGGAGCAUGGGGCUGGGGGACGGGAAGCAAGAAGCAGCAGCCAGGCGCUUGGGGAACACGCGAGUGGUAGGUUUUGGGGCUCCCUAAGGCCCCUUGGUGCCGCUGCUGGGAAGGCGGAGGCUCAGGAGGGCAGGCAACCACAGGGUUAGUCCAGACCCACAGUCCACAAAGACAGCAUUAAAGAGGGCUUACAAAACUGCAAGAUUUUACAAAGACCUUACAAUAGCAACAUAGAAAAGGGGAGGUAAAUUCCAGAAAGCUACAGAACAGGUAGAUAAUAUCCUUUUCAUAUUGUACAAAAAAACCAAACCUGACAGACUUUCCUAUAGGUAGUAUUUUUUCAGUGUUGAAAAACCAAAAUUUCUCCUUUCUCCCUCCUUAAAAAAUGUUUUUAAACUCCUUUCAUUUAAAUAGGGUUUUUUUUUUGUUUUUUUUGUUUUUUGUUUUGUUUUUUUACUUCCCUAUUCGAUUUGAGUUUCCUGAUUCAGUUCCCAGAGCUGGGCUUCUCUUCCUCUCCCUUUCUCAUGUCUCUUCCUCUGCCCUUUCUCCAUCCCUCACUCUUCCUCUUCCUCCUCUGCUUCAGCCCUGUCUUGGCCGGUGGUCCCCGGGCCCGCGGUCUUGUUCUCCUUUUUCCACUUCAUGCGCCGGUUCUGAAACCAAAUCUUGAUCUGUCUUUCCGUGAGGCAGAGCGUGUGCGCGAUCUCGAUGCGCCGCCGCCGCGUCAGGUAGCGAUUGUAGUGAAAUUCUUUCUCCAGCUCCAGGGUCUGGUAGCGGGUGUAGGUCUGGCGGCCUCGUUUGCGGUCAGUUCCUGAGCUUCGCAUCCAGGGGUAGAUCCGGAAGUUACUCUCGGCCGCCAAGUCCGAGUCCCUCUGCUCCUUGGCGCCCGCCGCCUUGGCGGAGUCGCCGGGACACACCCCGGAGAGGUUCUGCUCAAAGGGCGCGCAGUGCAUGUUGAAGGAACUCGGCUCGAGCCCAUAGCCGGCCGCGUAGACGCCGGCCGCGCUCUGGCCCGCCAUGCCCCCCCCGCCGGGGUACAAGCCCUGCAUCGAGGCGGCGAAGGAAGCGCCCGAACCCGCUCCAUAGCCCGGGCGCUGGGGGUUGGAAGCAAACGCACAAGAAGUUUGUUCUGGGAAGGCUCCGGUAGCGAAAACCGAACUUGAGGCUGGAUAUUUAGAAAAUAAAGUAUUCGCAUAAUACAAUGAACUCAUAAUUUGGCCGGAUGAUUUGUAGGCAGGGACGUUUUAGUGUCGGUUUUACGAGAUUCCUUGAUAUAUUACAGAAUUAGAGUCCAGAUUUACACCAAAAAG\n"
          ]
        }
      ]
    },
    {
      "cell_type": "markdown",
      "source": [
        "## <font color=2C3E50><b> 03.Construção dos possiveis siRNA</b>\n",
        "<hr>"
      ],
      "metadata": {
        "id": "grnUxxRBYTh7"
      }
    },
    {
      "cell_type": "markdown",
      "source": [
        "\n",
        "retira-se as sequencias de possiveis de siRNAs"
      ],
      "metadata": {
        "id": "K4Q2jS4moooF"
      }
    },
    {
      "cell_type": "markdown",
      "source": [
        "<font color=82D712><b>Achando as possiveis sequencias de siRNA"
      ],
      "metadata": {
        "id": "9a7cSdGWjQGU"
      }
    },
    {
      "cell_type": "code",
      "source": [
        "possiveis_siRNA = []\n",
        "for index, sequence in enumerate(sequencia_convertida):\n",
        "   f = index+22\n",
        "   possiveis_siRNA.append(str(sequencia_convertida[index:f]))\n",
        "   siRNA = possiveis_siRNA[:-21]\n",
        "\n",
        "siRNA[-10:]"
      ],
      "metadata": {
        "id": "aIYQxapyya-E",
        "colab": {
          "base_uri": "https://localhost:8080/"
        },
        "outputId": "2f0ac9be-01a4-48cc-ae62-a889ff60f58f"
      },
      "execution_count": 15,
      "outputs": [
        {
          "output_type": "execute_result",
          "data": {
            "text/plain": [
              "['CAGAAUUAGAGUCCAGAUUUAC',\n",
              " 'AGAAUUAGAGUCCAGAUUUACA',\n",
              " 'GAAUUAGAGUCCAGAUUUACAC',\n",
              " 'AAUUAGAGUCCAGAUUUACACC',\n",
              " 'AUUAGAGUCCAGAUUUACACCA',\n",
              " 'UUAGAGUCCAGAUUUACACCAA',\n",
              " 'UAGAGUCCAGAUUUACACCAAA',\n",
              " 'AGAGUCCAGAUUUACACCAAAA',\n",
              " 'GAGUCCAGAUUUACACCAAAAA',\n",
              " 'AGUCCAGAUUUACACCAAAAAG']"
            ]
          },
          "metadata": {},
          "execution_count": 15
        }
      ]
    },
    {
      "cell_type": "markdown",
      "source": [
        "## <font color=2C3E50><b> 04. Classificação dos siRNA</b>\n",
        "<hr>"
      ],
      "metadata": {
        "id": "BOfwYk-gplMM"
      }
    },
    {
      "cell_type": "markdown",
      "source": [
        "Reynolds et al. (2004), Ui-Tei et al. (2004) e Amarzguioui et al. estabeleceram critérios para determinar a funcionalidade das sequências de siRNA, que incluem o conteúdo de CG%, temperatura de melting e baixa estabilidade interna.\n",
        "\n",
        "Se uma sequência atender a esses critérios, ela é considerada funcional. Os critérios são classificados em ordem de importância da seguinte forma:\n",
        "\n",
        "| Rank | Critério                                   | Pontuação |\n",
        "| ---- | ------------------------------------------ | --------- |\n",
        "| 1    | Ausência de repetições invertidas (hairpin) | -         |\n",
        "| 2    | Estabilidade interna baixa                 | -2 a 10   |\n",
        "| 3    | Baixo teor de GC                           | 0 ou 4    |\n",
        "| 4    | Posições específicas                       | -4 a 6    |\n",
        "\n",
        "Assim, os siRNAs candidatos são avaliados de acordo com esses critérios para determinar sua viabilidade. Para o primeiro critério, os siRNAs que não atendem são descartados. Para os demais critérios, é atribuída uma pontuação: 10 pontos para o critério de estabilidade baixa, 4 ponto para o critério de baixo teor GC e 1 ponto para o critério 4.\n",
        "\n",
        "É importante destacar que, no caso das posições específicas, cada posição que corresponde a um nucleotídeo ideal recebe 1 ponto, enquanto a não conformidade com essa posição retorna 0 pontos. Nas posições onde o nucleotídeo precisa ser específico, é deduzido 1 ponto se não estiver em conformidade.\n",
        "\n",
        "A pontuação então sera trasformada em pencentual, onde as sequencias apenas as sequencias com mais de 80% de conformidade seram levadas para as proximas fases.\n",
        "\n",
        "<hr>\n",
        "\n",
        "> <font size=\"2.5\"> codigo usado como base de biologyguy in <a href=\"https://github.com/biologyguy/public_scripts/blob/master/siRNA_predict.py\" rel=\"\">github</a>"
      ],
      "metadata": {
        "id": "MDEK-zEJoxm9"
      }
    },
    {
      "cell_type": "markdown",
      "source": [
        "<font color=82D712><b>Importando Bibliotecas"
      ],
      "metadata": {
        "id": "jLArPdYwpdhe"
      }
    },
    {
      "cell_type": "code",
      "source": [
        "import re\n",
        "from Bio.SeqUtils import MeltingTemp as mt\n",
        "from Bio.SeqUtils import gc_fraction\n",
        "from Bio.Seq import Seq\n",
        "import pandas as pd"
      ],
      "metadata": {
        "id": "yIe4RTYsz3em"
      },
      "execution_count": 5,
      "outputs": []
    },
    {
      "cell_type": "markdown",
      "source": [
        "<font color=82D712><b>Determinando a qualidade do siRNA"
      ],
      "metadata": {
        "id": "Z7i74cINpe_V"
      }
    },
    {
      "cell_type": "code",
      "source": [
        "def siRNA_score (sequence, MaxTm, index):\n",
        "  score = 0\n",
        "\n",
        "  # Ausência de repetições invertidas Tm\n",
        "  tm = round(mt.Tm_GC(sequence, mismatch=False), 4)\n",
        "\n",
        "  # Estabilidade interna baixa\n",
        "  for letra in sequence[14:19]:\n",
        "    if letra == \"A\" or letra == \"U\":\n",
        "      score += 2\n",
        "    else:\n",
        "      score -= 2\n",
        "\n",
        "  # Conteudo Baixo GC\n",
        "  conteudo_gc = round(gc_fraction(sequence)*100, 2)\n",
        "  if 30 <= conteudo_gc <= 52:\n",
        "    score += 4\n",
        "\n",
        "  # Posições específicas - Critérios REYNOLDS et al. (2004) e AMARZGUIOUI et al. (2004)\n",
        "  if sequence[0] == \"A\" or sequence[9] != \"U\":\n",
        "    score += 1\n",
        "  if sequence[5] == \"A\":\n",
        "    score += 1\n",
        "  else: score -= 1\n",
        "  if sequence[9] == \"U\":\n",
        "    score += 1\n",
        "  if sequence[9] != \"G\":\n",
        "    score += 1\n",
        "  else: score -= 1\n",
        "  if sequence[18] != \"G\" and sequence[18] != \"C\":\n",
        "    score += 1\n",
        "  else: score -= 1\n",
        "  if sequence[18] == \"A\":\n",
        "    score += 1\n",
        "  else: score -= 1\n",
        "\n",
        "  return score, tm, conteudo_gc, MaxTm"
      ],
      "metadata": {
        "id": "whJb5xJ1zbda"
      },
      "execution_count": 6,
      "outputs": []
    },
    {
      "cell_type": "markdown",
      "source": [
        "<font color=82D712><b>Verificando cada sequencia de siRNA e salvando suas pontuações"
      ],
      "metadata": {
        "id": "ojczaS6lPqFF"
      }
    },
    {
      "cell_type": "code",
      "source": [
        "# Definindo Variaveis\n",
        "siRNA_verificados = []\n",
        "score = []\n",
        "tm = []\n",
        "conteudo_gc = []\n",
        "\n",
        "for index, sequence in enumerate(siRNA):\n",
        "  #Veficando a qualidade\n",
        "  resultado = siRNA_score(sequence, 60, index)\n",
        "\n",
        "  #Exclui RNAs indesejadas\n",
        "  if resultado[0] <= 16 or resultado[1] > resultado[3]:\n",
        "    siRNA.pop(index)\n",
        "  else:\n",
        "  #Salvando os parametros\n",
        "    siRNA_verificados.append(sequence)\n",
        "    score.append(resultado[0])\n",
        "    tm.append(resultado[1])\n",
        "    conteudo_gc.append(resultado[2])\n",
        "  # Printando as sequencias possiveis\n",
        "    print(sequence, 'score:', resultado[0], 'Tm:', resultado[1])"
      ],
      "metadata": {
        "id": "GIcisbvPxVQ_",
        "colab": {
          "base_uri": "https://localhost:8080/"
        },
        "outputId": "363a2243-691f-48df-a2ce-2e566918d17c"
      },
      "execution_count": 7,
      "outputs": [
        {
          "output_type": "stream",
          "name": "stdout",
          "text": [
            "UAUUUUUAAUUGCGUUUUAUUU score: 17 Tm: 38.2211\n",
            "CCACAAAGACAGCAUUAAAGAG score: 19 Tm: 49.4029\n",
            "ACAAAACUGCAAGAUUUUACAA score: 19 Tm: 43.812\n",
            "ACAGAACAGGUAGAUAAUAUCC score: 17 Tm: 47.5393\n",
            "AUAAUAUCCUUUUCAUAUUGUA score: 18 Tm: 40.0847\n",
            "UUCAUAUUGUACAAAAAAACCA score: 19 Tm: 41.9484\n",
            "UGUUGAAAAACCAAAAUUUCUC score: 17 Tm: 43.812\n",
            "UCCUUAAAAAAUGUUUUUAAAC score: 19 Tm: 40.0847\n",
            "CCUUAAAAAAUGUUUUUAAACU score: 19 Tm: 40.0847\n",
            "CUUAAAAAAUGUUUUUAAACUC score: 19 Tm: 40.0847\n",
            "UUUAAACUCCUUUCAUUUAAAU score: 19 Tm: 40.0847\n",
            "UUAAACUCCUUUCAUUUAAAUA score: 17 Tm: 40.0847\n",
            "UAAACUCCUUUCAUUUAAAUAG score: 17 Tm: 41.9484\n",
            "CAUUUAAAUAGGGUUUUUUUUU score: 17 Tm: 40.0847\n",
            "CUGGAUAUUUAGAAAAUAAAGU score: 17 Tm: 41.9484\n",
            "AUAAAGUAUUCGCAUAAUACAA score: 18 Tm: 41.9484\n",
            "AAUACAAUGAACUCAUAAUUUG score: 17 Tm: 41.9484\n",
            "AUACAAUGAACUCAUAAUUUGG score: 17 Tm: 43.812\n",
            "UACGAGAUUCCUUGAUAUAUUA score: 17 Tm: 43.812\n",
            "ACGAGAUUCCUUGAUAUAUUAC score: 17 Tm: 45.6756\n",
            "GAAUUAGAGUCCAGAUUUACAC score: 19 Tm: 47.5393\n"
          ]
        }
      ]
    },
    {
      "cell_type": "markdown",
      "source": [
        "## <font color=2C3E50><b>05. Blast</b>\n",
        "<hr>\n"
      ],
      "metadata": {
        "id": "TLhU0AHFtzkY"
      }
    },
    {
      "cell_type": "markdown",
      "source": [
        "Essa parte é especializada em trazer as informações BLAST do arquivo fasta, porém o processamento é online, demorando alguns minutos"
      ],
      "metadata": {
        "id": "SAbSkREIo6Al"
      }
    },
    {
      "cell_type": "markdown",
      "source": [
        "<font color=82D712><b>Importando Bibliotecas"
      ],
      "metadata": {
        "id": "eFTWUzXipocM"
      }
    },
    {
      "cell_type": "code",
      "source": [
        "from Bio import SeqIO\n",
        "from Bio.Blast import NCBIWWW\n",
        "from Bio.Blast import NCBIXML"
      ],
      "metadata": {
        "id": "AReux-AidA4g"
      },
      "execution_count": 8,
      "outputs": []
    },
    {
      "cell_type": "code",
      "source": [
        "fasta_string = open(\"meugene.fasta\").read()\n",
        "result_handle = NCBIWWW.qblast(\"blastn\", \"nt\", fasta_string)\n",
        "\n",
        "blast_records = NCBIXML.parse(result_handle)\n",
        "print(\"{:<20} {:<20} {:<10} {:<10} {:<10} {:<10} {:<10} {:<10} {:<10}\".format(\"description\", \"scientific name\", \"max score\", \"total score\", \"query cover\", \"E value\", \"per. ident\", \"acc. len\", \"accession\"))\n",
        "alignments = []\n",
        "for blast_record in blast_records:\n",
        "    for alignment in blast_record.alignments:\n",
        "        for hsp in alignment.hsps:\n",
        "            if hsp.expect < 0.01:\n",
        "                alignments.append((\n",
        "                    alignment.hit_def[:20],\n",
        "                    alignment.hit_id.split(\"|\")[4][:20],\n",
        "                    hsp.score,\n",
        "                    hsp.bits,\n",
        "                    hsp.align_length / blast_record.query_length,\n",
        "                    hsp.expect,\n",
        "                    hsp.identities / hsp.align_length,\n",
        "                    alignment.length,\n",
        "                    alignment.accession\n",
        "                ))\n",
        "alignments.sort(key=lambda x: x[5])\n",
        "for alignment in alignments:\n",
        "    print(\"{:<20} {:<20} {:<10} {:<10} {:<10.2f} {:<10.2e} {:<10.2f} {:<10} {:<10}\".format(*alignment))"
      ],
      "metadata": {
        "id": "X2OCVZWuBkva"
      },
      "execution_count": null,
      "outputs": []
    },
    {
      "cell_type": "markdown",
      "source": [
        "## <font color=2C3E50><b>06. Dataset, Visualização e plotly</b>\n",
        "<hr>"
      ],
      "metadata": {
        "id": "HYC1ndmDBXE-"
      }
    },
    {
      "cell_type": "code",
      "source": [
        "import pandas as pd"
      ],
      "metadata": {
        "id": "0S9dFk7eBlW6"
      },
      "execution_count": 16,
      "outputs": []
    },
    {
      "cell_type": "code",
      "source": [
        "dataset = pd.DataFrame({\"Sequência\": siRNA_verificados,\n",
        "                        \"Score\": score,\n",
        "                        \"Temperatura de Melting\": tm,\n",
        "                        \"Conteudo CG\": conteudo_gc})\n",
        "dataset.sort_values(by=[\"Score\"], ascending=False, ignore_index=True)"
      ],
      "metadata": {
        "colab": {
          "base_uri": "https://localhost:8080/",
          "height": 707
        },
        "id": "fA8FcwppQPh9",
        "outputId": "7dad457a-8ba5-4228-8eff-38c0748d6099"
      },
      "execution_count": 22,
      "outputs": [
        {
          "output_type": "execute_result",
          "data": {
            "text/plain": [
              "                 Sequência  Score  Temperatura de Melting  Conteudo CG\n",
              "0   UUUAAACUCCUUUCAUUUAAAU     19                 40.0847        36.36\n",
              "1   UCCUUAAAAAAUGUUUUUAAAC     19                 40.0847        30.77\n",
              "2   CCACAAAGACAGCAUUAAAGAG     19                 49.4029        45.00\n",
              "3   CUUAAAAAAUGUUUUUAAACUC     19                 40.0847        30.77\n",
              "4   CCUUAAAAAAUGUUUUUAAACU     19                 40.0847        30.77\n",
              "5   GAAUUAGAGUCCAGAUUUACAC     19                 47.5393        50.00\n",
              "6   UUCAUAUUGUACAAAAAAACCA     19                 41.9484        31.25\n",
              "7   ACAAAACUGCAAGAUUUUACAA     19                 43.8120        35.29\n",
              "8   AUAAUAUCCUUUUCAUAUUGUA     18                 40.0847        36.36\n",
              "9   AUAAAGUAUUCGCAUAAUACAA     18                 41.9484        31.25\n",
              "10  UGUUGAAAAACCAAAAUUUCUC     17                 43.8120        40.00\n",
              "11  ACAGAACAGGUAGAUAAUAUCC     17                 47.5393        44.44\n",
              "12  UUAAACUCCUUUCAUUUAAAUA     17                 40.0847        33.33\n",
              "13  UAAACUCCUUUCAUUUAAAUAG     17                 41.9484        38.46\n",
              "14  CAUUUAAAUAGGGUUUUUUUUU     17                 40.0847        44.44\n",
              "15  CUGGAUAUUUAGAAAAUAAAGU     17                 41.9484        33.33\n",
              "16  AAUACAAUGAACUCAUAAUUUG     17                 41.9484        33.33\n",
              "17  AUACAAUGAACUCAUAAUUUGG     17                 43.8120        40.00\n",
              "18  UACGAGAUUCCUUGAUAUAUUA     17                 43.8120        46.15\n",
              "19  ACGAGAUUCCUUGAUAUAUUAC     17                 45.6756        50.00\n",
              "20  UAUUUUUAAUUGCGUUUUAUUU     17                 38.2211        42.86"
            ],
            "text/html": [
              "\n",
              "  <div id=\"df-1890802c-c27a-45d8-9c35-ba20b1d93f26\" class=\"colab-df-container\">\n",
              "    <div>\n",
              "<style scoped>\n",
              "    .dataframe tbody tr th:only-of-type {\n",
              "        vertical-align: middle;\n",
              "    }\n",
              "\n",
              "    .dataframe tbody tr th {\n",
              "        vertical-align: top;\n",
              "    }\n",
              "\n",
              "    .dataframe thead th {\n",
              "        text-align: right;\n",
              "    }\n",
              "</style>\n",
              "<table border=\"1\" class=\"dataframe\">\n",
              "  <thead>\n",
              "    <tr style=\"text-align: right;\">\n",
              "      <th></th>\n",
              "      <th>Sequência</th>\n",
              "      <th>Score</th>\n",
              "      <th>Temperatura de Melting</th>\n",
              "      <th>Conteudo CG</th>\n",
              "    </tr>\n",
              "  </thead>\n",
              "  <tbody>\n",
              "    <tr>\n",
              "      <th>0</th>\n",
              "      <td>UUUAAACUCCUUUCAUUUAAAU</td>\n",
              "      <td>19</td>\n",
              "      <td>40.0847</td>\n",
              "      <td>36.36</td>\n",
              "    </tr>\n",
              "    <tr>\n",
              "      <th>1</th>\n",
              "      <td>UCCUUAAAAAAUGUUUUUAAAC</td>\n",
              "      <td>19</td>\n",
              "      <td>40.0847</td>\n",
              "      <td>30.77</td>\n",
              "    </tr>\n",
              "    <tr>\n",
              "      <th>2</th>\n",
              "      <td>CCACAAAGACAGCAUUAAAGAG</td>\n",
              "      <td>19</td>\n",
              "      <td>49.4029</td>\n",
              "      <td>45.00</td>\n",
              "    </tr>\n",
              "    <tr>\n",
              "      <th>3</th>\n",
              "      <td>CUUAAAAAAUGUUUUUAAACUC</td>\n",
              "      <td>19</td>\n",
              "      <td>40.0847</td>\n",
              "      <td>30.77</td>\n",
              "    </tr>\n",
              "    <tr>\n",
              "      <th>4</th>\n",
              "      <td>CCUUAAAAAAUGUUUUUAAACU</td>\n",
              "      <td>19</td>\n",
              "      <td>40.0847</td>\n",
              "      <td>30.77</td>\n",
              "    </tr>\n",
              "    <tr>\n",
              "      <th>5</th>\n",
              "      <td>GAAUUAGAGUCCAGAUUUACAC</td>\n",
              "      <td>19</td>\n",
              "      <td>47.5393</td>\n",
              "      <td>50.00</td>\n",
              "    </tr>\n",
              "    <tr>\n",
              "      <th>6</th>\n",
              "      <td>UUCAUAUUGUACAAAAAAACCA</td>\n",
              "      <td>19</td>\n",
              "      <td>41.9484</td>\n",
              "      <td>31.25</td>\n",
              "    </tr>\n",
              "    <tr>\n",
              "      <th>7</th>\n",
              "      <td>ACAAAACUGCAAGAUUUUACAA</td>\n",
              "      <td>19</td>\n",
              "      <td>43.8120</td>\n",
              "      <td>35.29</td>\n",
              "    </tr>\n",
              "    <tr>\n",
              "      <th>8</th>\n",
              "      <td>AUAAUAUCCUUUUCAUAUUGUA</td>\n",
              "      <td>18</td>\n",
              "      <td>40.0847</td>\n",
              "      <td>36.36</td>\n",
              "    </tr>\n",
              "    <tr>\n",
              "      <th>9</th>\n",
              "      <td>AUAAAGUAUUCGCAUAAUACAA</td>\n",
              "      <td>18</td>\n",
              "      <td>41.9484</td>\n",
              "      <td>31.25</td>\n",
              "    </tr>\n",
              "    <tr>\n",
              "      <th>10</th>\n",
              "      <td>UGUUGAAAAACCAAAAUUUCUC</td>\n",
              "      <td>17</td>\n",
              "      <td>43.8120</td>\n",
              "      <td>40.00</td>\n",
              "    </tr>\n",
              "    <tr>\n",
              "      <th>11</th>\n",
              "      <td>ACAGAACAGGUAGAUAAUAUCC</td>\n",
              "      <td>17</td>\n",
              "      <td>47.5393</td>\n",
              "      <td>44.44</td>\n",
              "    </tr>\n",
              "    <tr>\n",
              "      <th>12</th>\n",
              "      <td>UUAAACUCCUUUCAUUUAAAUA</td>\n",
              "      <td>17</td>\n",
              "      <td>40.0847</td>\n",
              "      <td>33.33</td>\n",
              "    </tr>\n",
              "    <tr>\n",
              "      <th>13</th>\n",
              "      <td>UAAACUCCUUUCAUUUAAAUAG</td>\n",
              "      <td>17</td>\n",
              "      <td>41.9484</td>\n",
              "      <td>38.46</td>\n",
              "    </tr>\n",
              "    <tr>\n",
              "      <th>14</th>\n",
              "      <td>CAUUUAAAUAGGGUUUUUUUUU</td>\n",
              "      <td>17</td>\n",
              "      <td>40.0847</td>\n",
              "      <td>44.44</td>\n",
              "    </tr>\n",
              "    <tr>\n",
              "      <th>15</th>\n",
              "      <td>CUGGAUAUUUAGAAAAUAAAGU</td>\n",
              "      <td>17</td>\n",
              "      <td>41.9484</td>\n",
              "      <td>33.33</td>\n",
              "    </tr>\n",
              "    <tr>\n",
              "      <th>16</th>\n",
              "      <td>AAUACAAUGAACUCAUAAUUUG</td>\n",
              "      <td>17</td>\n",
              "      <td>41.9484</td>\n",
              "      <td>33.33</td>\n",
              "    </tr>\n",
              "    <tr>\n",
              "      <th>17</th>\n",
              "      <td>AUACAAUGAACUCAUAAUUUGG</td>\n",
              "      <td>17</td>\n",
              "      <td>43.8120</td>\n",
              "      <td>40.00</td>\n",
              "    </tr>\n",
              "    <tr>\n",
              "      <th>18</th>\n",
              "      <td>UACGAGAUUCCUUGAUAUAUUA</td>\n",
              "      <td>17</td>\n",
              "      <td>43.8120</td>\n",
              "      <td>46.15</td>\n",
              "    </tr>\n",
              "    <tr>\n",
              "      <th>19</th>\n",
              "      <td>ACGAGAUUCCUUGAUAUAUUAC</td>\n",
              "      <td>17</td>\n",
              "      <td>45.6756</td>\n",
              "      <td>50.00</td>\n",
              "    </tr>\n",
              "    <tr>\n",
              "      <th>20</th>\n",
              "      <td>UAUUUUUAAUUGCGUUUUAUUU</td>\n",
              "      <td>17</td>\n",
              "      <td>38.2211</td>\n",
              "      <td>42.86</td>\n",
              "    </tr>\n",
              "  </tbody>\n",
              "</table>\n",
              "</div>\n",
              "    <div class=\"colab-df-buttons\">\n",
              "\n",
              "  <div class=\"colab-df-container\">\n",
              "    <button class=\"colab-df-convert\" onclick=\"convertToInteractive('df-1890802c-c27a-45d8-9c35-ba20b1d93f26')\"\n",
              "            title=\"Convert this dataframe to an interactive table.\"\n",
              "            style=\"display:none;\">\n",
              "\n",
              "  <svg xmlns=\"http://www.w3.org/2000/svg\" height=\"24px\" viewBox=\"0 -960 960 960\">\n",
              "    <path d=\"M120-120v-720h720v720H120Zm60-500h600v-160H180v160Zm220 220h160v-160H400v160Zm0 220h160v-160H400v160ZM180-400h160v-160H180v160Zm440 0h160v-160H620v160ZM180-180h160v-160H180v160Zm440 0h160v-160H620v160Z\"/>\n",
              "  </svg>\n",
              "    </button>\n",
              "\n",
              "  <style>\n",
              "    .colab-df-container {\n",
              "      display:flex;\n",
              "      gap: 12px;\n",
              "    }\n",
              "\n",
              "    .colab-df-convert {\n",
              "      background-color: #E8F0FE;\n",
              "      border: none;\n",
              "      border-radius: 50%;\n",
              "      cursor: pointer;\n",
              "      display: none;\n",
              "      fill: #1967D2;\n",
              "      height: 32px;\n",
              "      padding: 0 0 0 0;\n",
              "      width: 32px;\n",
              "    }\n",
              "\n",
              "    .colab-df-convert:hover {\n",
              "      background-color: #E2EBFA;\n",
              "      box-shadow: 0px 1px 2px rgba(60, 64, 67, 0.3), 0px 1px 3px 1px rgba(60, 64, 67, 0.15);\n",
              "      fill: #174EA6;\n",
              "    }\n",
              "\n",
              "    .colab-df-buttons div {\n",
              "      margin-bottom: 4px;\n",
              "    }\n",
              "\n",
              "    [theme=dark] .colab-df-convert {\n",
              "      background-color: #3B4455;\n",
              "      fill: #D2E3FC;\n",
              "    }\n",
              "\n",
              "    [theme=dark] .colab-df-convert:hover {\n",
              "      background-color: #434B5C;\n",
              "      box-shadow: 0px 1px 3px 1px rgba(0, 0, 0, 0.15);\n",
              "      filter: drop-shadow(0px 1px 2px rgba(0, 0, 0, 0.3));\n",
              "      fill: #FFFFFF;\n",
              "    }\n",
              "  </style>\n",
              "\n",
              "    <script>\n",
              "      const buttonEl =\n",
              "        document.querySelector('#df-1890802c-c27a-45d8-9c35-ba20b1d93f26 button.colab-df-convert');\n",
              "      buttonEl.style.display =\n",
              "        google.colab.kernel.accessAllowed ? 'block' : 'none';\n",
              "\n",
              "      async function convertToInteractive(key) {\n",
              "        const element = document.querySelector('#df-1890802c-c27a-45d8-9c35-ba20b1d93f26');\n",
              "        const dataTable =\n",
              "          await google.colab.kernel.invokeFunction('convertToInteractive',\n",
              "                                                    [key], {});\n",
              "        if (!dataTable) return;\n",
              "\n",
              "        const docLinkHtml = 'Like what you see? Visit the ' +\n",
              "          '<a target=\"_blank\" href=https://colab.research.google.com/notebooks/data_table.ipynb>data table notebook</a>'\n",
              "          + ' to learn more about interactive tables.';\n",
              "        element.innerHTML = '';\n",
              "        dataTable['output_type'] = 'display_data';\n",
              "        await google.colab.output.renderOutput(dataTable, element);\n",
              "        const docLink = document.createElement('div');\n",
              "        docLink.innerHTML = docLinkHtml;\n",
              "        element.appendChild(docLink);\n",
              "      }\n",
              "    </script>\n",
              "  </div>\n",
              "\n",
              "\n",
              "<div id=\"df-b7c5d63d-d3c7-4b58-8de2-353f60767919\">\n",
              "  <button class=\"colab-df-quickchart\" onclick=\"quickchart('df-b7c5d63d-d3c7-4b58-8de2-353f60767919')\"\n",
              "            title=\"Suggest charts.\"\n",
              "            style=\"display:none;\">\n",
              "\n",
              "<svg xmlns=\"http://www.w3.org/2000/svg\" height=\"24px\"viewBox=\"0 0 24 24\"\n",
              "     width=\"24px\">\n",
              "    <g>\n",
              "        <path d=\"M19 3H5c-1.1 0-2 .9-2 2v14c0 1.1.9 2 2 2h14c1.1 0 2-.9 2-2V5c0-1.1-.9-2-2-2zM9 17H7v-7h2v7zm4 0h-2V7h2v10zm4 0h-2v-4h2v4z\"/>\n",
              "    </g>\n",
              "</svg>\n",
              "  </button>\n",
              "\n",
              "<style>\n",
              "  .colab-df-quickchart {\n",
              "      --bg-color: #E8F0FE;\n",
              "      --fill-color: #1967D2;\n",
              "      --hover-bg-color: #E2EBFA;\n",
              "      --hover-fill-color: #174EA6;\n",
              "      --disabled-fill-color: #AAA;\n",
              "      --disabled-bg-color: #DDD;\n",
              "  }\n",
              "\n",
              "  [theme=dark] .colab-df-quickchart {\n",
              "      --bg-color: #3B4455;\n",
              "      --fill-color: #D2E3FC;\n",
              "      --hover-bg-color: #434B5C;\n",
              "      --hover-fill-color: #FFFFFF;\n",
              "      --disabled-bg-color: #3B4455;\n",
              "      --disabled-fill-color: #666;\n",
              "  }\n",
              "\n",
              "  .colab-df-quickchart {\n",
              "    background-color: var(--bg-color);\n",
              "    border: none;\n",
              "    border-radius: 50%;\n",
              "    cursor: pointer;\n",
              "    display: none;\n",
              "    fill: var(--fill-color);\n",
              "    height: 32px;\n",
              "    padding: 0;\n",
              "    width: 32px;\n",
              "  }\n",
              "\n",
              "  .colab-df-quickchart:hover {\n",
              "    background-color: var(--hover-bg-color);\n",
              "    box-shadow: 0 1px 2px rgba(60, 64, 67, 0.3), 0 1px 3px 1px rgba(60, 64, 67, 0.15);\n",
              "    fill: var(--button-hover-fill-color);\n",
              "  }\n",
              "\n",
              "  .colab-df-quickchart-complete:disabled,\n",
              "  .colab-df-quickchart-complete:disabled:hover {\n",
              "    background-color: var(--disabled-bg-color);\n",
              "    fill: var(--disabled-fill-color);\n",
              "    box-shadow: none;\n",
              "  }\n",
              "\n",
              "  .colab-df-spinner {\n",
              "    border: 2px solid var(--fill-color);\n",
              "    border-color: transparent;\n",
              "    border-bottom-color: var(--fill-color);\n",
              "    animation:\n",
              "      spin 1s steps(1) infinite;\n",
              "  }\n",
              "\n",
              "  @keyframes spin {\n",
              "    0% {\n",
              "      border-color: transparent;\n",
              "      border-bottom-color: var(--fill-color);\n",
              "      border-left-color: var(--fill-color);\n",
              "    }\n",
              "    20% {\n",
              "      border-color: transparent;\n",
              "      border-left-color: var(--fill-color);\n",
              "      border-top-color: var(--fill-color);\n",
              "    }\n",
              "    30% {\n",
              "      border-color: transparent;\n",
              "      border-left-color: var(--fill-color);\n",
              "      border-top-color: var(--fill-color);\n",
              "      border-right-color: var(--fill-color);\n",
              "    }\n",
              "    40% {\n",
              "      border-color: transparent;\n",
              "      border-right-color: var(--fill-color);\n",
              "      border-top-color: var(--fill-color);\n",
              "    }\n",
              "    60% {\n",
              "      border-color: transparent;\n",
              "      border-right-color: var(--fill-color);\n",
              "    }\n",
              "    80% {\n",
              "      border-color: transparent;\n",
              "      border-right-color: var(--fill-color);\n",
              "      border-bottom-color: var(--fill-color);\n",
              "    }\n",
              "    90% {\n",
              "      border-color: transparent;\n",
              "      border-bottom-color: var(--fill-color);\n",
              "    }\n",
              "  }\n",
              "</style>\n",
              "\n",
              "  <script>\n",
              "    async function quickchart(key) {\n",
              "      const quickchartButtonEl =\n",
              "        document.querySelector('#' + key + ' button');\n",
              "      quickchartButtonEl.disabled = true;  // To prevent multiple clicks.\n",
              "      quickchartButtonEl.classList.add('colab-df-spinner');\n",
              "      try {\n",
              "        const charts = await google.colab.kernel.invokeFunction(\n",
              "            'suggestCharts', [key], {});\n",
              "      } catch (error) {\n",
              "        console.error('Error during call to suggestCharts:', error);\n",
              "      }\n",
              "      quickchartButtonEl.classList.remove('colab-df-spinner');\n",
              "      quickchartButtonEl.classList.add('colab-df-quickchart-complete');\n",
              "    }\n",
              "    (() => {\n",
              "      let quickchartButtonEl =\n",
              "        document.querySelector('#df-b7c5d63d-d3c7-4b58-8de2-353f60767919 button');\n",
              "      quickchartButtonEl.style.display =\n",
              "        google.colab.kernel.accessAllowed ? 'block' : 'none';\n",
              "    })();\n",
              "  </script>\n",
              "</div>\n",
              "    </div>\n",
              "  </div>\n"
            ]
          },
          "metadata": {},
          "execution_count": 22
        }
      ]
    }
  ]
}