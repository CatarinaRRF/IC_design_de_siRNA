{
  "nbformat": 4,
  "nbformat_minor": 0,
  "metadata": {
    "colab": {
      "provenance": [],
      "collapsed_sections": [
        "XgQumBHZUa4E"
      ],
      "authorship_tag": "ABX9TyPTLa1dk/sbhC0NkJ5uNlwO",
      "include_colab_link": true
    },
    "kernelspec": {
      "name": "python3",
      "display_name": "Python 3"
    },
    "language_info": {
      "name": "python"
    }
  },
  "cells": [
    {
      "cell_type": "markdown",
      "metadata": {
        "id": "view-in-github",
        "colab_type": "text"
      },
      "source": [
        "<a href=\"https://colab.research.google.com/github/CatarinaRRF/IC_design_de_siRNA/blob/main/code/IC_design_de_siRNA(upload_arquivos).ipynb\" target=\"_parent\"><img src=\"https://colab.research.google.com/assets/colab-badge.svg\" alt=\"Open In Colab\"/></a>"
      ]
    },
    {
      "cell_type": "markdown",
      "source": [
        "# <b><font color=2C3E50> IC - Design de siRNA</a></font></b>\n",
        "<hr color ='2C3E50' size=\"10\">"
      ],
      "metadata": {
        "id": "hIAEY7l_ZH45"
      }
    },
    {
      "cell_type": "markdown",
      "source": [
        "<font color=RED><b>O que precisa ser feito</b></font>\n",
        "<hr>\n",
        "\n",
        "* Trascrever o DNA que foi importando\n",
        "* Encontrar as sequencias de 22 pb\n",
        "* Integrar o blast do valdeir com este codigo\n",
        "* Criar um dataset com as sequencias e seus score\n",
        "\n",
        "<font color=RED><b>Erros que precisam ser resolvidos</b></font>\n",
        "<hr>\n",
        "\n",
        "Lembrar de alterar o resultado da função siRNA_score\n",
        "\n",
        "O limite de conformidade de 80% deve ser analizado com mais precisão\n",
        "\n"
      ],
      "metadata": {
        "id": "CFNQiiVyu0Uf"
      }
    },
    {
      "cell_type": "markdown",
      "source": [
        "## <font color=2C3E50><b> 01. Introdução</b>"
      ],
      "metadata": {
        "id": "XgQumBHZUa4E"
      }
    },
    {
      "cell_type": "markdown",
      "source": [
        "Com a crescente importância das pesquisas em biologia molecular e terapia genética, a identificação e seleção eficiente de pequenas moléculas de RNA interferente (siRNA) tornaram-se cruciais para a regulação precisa da expressão gênica.\n",
        "\n",
        "Nesse contexto, se faz necessario a criação de algoritmo capaz de automatizar e aprimorar o processo de escolha de siRNA. Ao integrar dados genômicos, informações sobre o alvo gênico e considerações terapêuticas, o algoritmo visa simplificar a complexidade inerente à seleção de siRNA, oferecendo aos pesquisadores uma ferramenta confiável para acelerar suas investigações e aplicações práticas.\n",
        "\n",
        "O algoritimo utiliza do banco de dados mantido pelo NCBI <i>gene</i> onde, a partir dos codigo do gene de interesse fornecido pelo usuario, será analizado a viabilidade dos possiveis siRNA produzidos. Segue o desenho esquematico da logica do programa.\n",
        "\n",
        "\n",
        "<img style=\"display: inline; margin: 15px 0;\" title=\"heartica_logo\" src= https://raw.githubusercontent.com/CatarinaRRF/IC_design_de_siRNA/main/media/siRNA.drawio%20.png alt=\"\" />"
      ],
      "metadata": {
        "id": "yBXt0VCVkad3"
      }
    },
    {
      "cell_type": "markdown",
      "source": [
        "## <font color=2C3E50><b> 02.Buscando a sequencia do Gene</b>\n",
        "\n"
      ],
      "metadata": {
        "id": "XUZGx3UHm-OQ"
      }
    },
    {
      "cell_type": "markdown",
      "source": [
        "Bloco de código onde o usuário entra com o nome do genes (HOXB7) a pesquisar no portal NCBI, após a pesquisa, será exibido detalhes do genes, e será salvo automaticamente no formato fasta\n",
        "\n",
        "email = catarinafreitas1605@gmail.com"
      ],
      "metadata": {
        "id": "yLVmUNTOofKX"
      }
    },
    {
      "cell_type": "markdown",
      "source": [
        "<font color=82D712><b>Importando Bibliotecas"
      ],
      "metadata": {
        "id": "a16tZKH4pLOd"
      }
    },
    {
      "cell_type": "code",
      "source": [
        "pip install biopython"
      ],
      "metadata": {
        "colab": {
          "base_uri": "https://localhost:8080/"
        },
        "id": "XV6GGbEXXCAk",
        "outputId": "13b5974f-1aa4-46d7-bcb3-cb6bc69a4dfd"
      },
      "execution_count": 1,
      "outputs": [
        {
          "output_type": "stream",
          "name": "stdout",
          "text": [
            "Requirement already satisfied: biopython in /usr/local/lib/python3.10/dist-packages (1.81)\n",
            "Requirement already satisfied: numpy in /usr/local/lib/python3.10/dist-packages (from biopython) (1.23.5)\n"
          ]
        }
      ]
    },
    {
      "cell_type": "code",
      "source": [
        "import Bio\n",
        "from Bio import Entrez\n",
        "from Bio import SeqIO\n",
        "from Bio.Seq import Seq"
      ],
      "metadata": {
        "id": "5czcPOfzVrt3"
      },
      "execution_count": 2,
      "outputs": []
    },
    {
      "cell_type": "markdown",
      "source": [
        "###<font color=82D712><b> Insirindo os dados"
      ],
      "metadata": {
        "id": "KH-VMiIXL-E8"
      }
    },
    {
      "cell_type": "code",
      "source": [
        "from Bio import SeqIO\n",
        "def converter_letras(sequencia):\n",
        "    return sequencia.seq[:-1].replace('T', 'U')\n",
        "\n",
        "# selecionar o arquivo FASTA\n",
        "nome_arquivo = '/content/sequence.fasta'\n",
        "\n",
        "try:\n",
        "    # Le o arquivo FASTA e armazena as sequencias em uma lista\n",
        "    sequencias = list(SeqIO.parse(nome_arquivo, 'fasta'))\n",
        "\n",
        "    # Verifica se o arquivo nao está vazio\n",
        "    if len(sequencias) > 0:\n",
        "        # Define o nome do arquivo de saída\n",
        "        nome_arquivo_saida = 'meugene.fasta'\n",
        "\n",
        "        # Salva as sequencias no arquivo de saida\n",
        "        SeqIO.write(sequencias, nome_arquivo_saida, 'fasta')\n",
        "        print(f'O arquivo {nome_arquivo} foi salvo como {nome_arquivo_saida}.')\n",
        "\n",
        "        # Exibe os dados das sequencias para o usuario\n",
        "        for sequencia in sequencias:\n",
        "            print()\n",
        "            print(\"*\"*28, 'Informações', \"*\"*28)\n",
        "            print(f'Nome: {sequencia.name}')\n",
        "            print(f'Descrição: {sequencia.description}')\n",
        "            print(f'Tamanho: {len(sequencia.seq)}')\n",
        "\n",
        "            # Converte as letras T para U\n",
        "            a = sequencia.seq.complement()\n",
        "            sequencia_convertida = Bio.Seq.transcribe(a)\n",
        "            print()\n",
        "            print(\"*\"*28, 'Sequências', \"*\"*28)\n",
        "            print(f'* Sequência de DNA:\\n {sequencia.seq}')\n",
        "            print(f'\\n* Sequência convertida em RNA:\\n {sequencia_convertida}')\n",
        "    else:\n",
        "        print('O arquivo FASTA está vazio.')\n",
        "except Exception as e:\n",
        "    print(f'Ocorreu um erro ao ler o arquivo FASTA: {str(e)}')\n"
      ],
      "metadata": {
        "colab": {
          "base_uri": "https://localhost:8080/"
        },
        "id": "ZgPSkaEYg3FV",
        "outputId": "cf84a887-9686-441d-a019-3406e34a9394"
      },
      "execution_count": 10,
      "outputs": [
        {
          "output_type": "stream",
          "name": "stdout",
          "text": [
            "O arquivo /content/sequence.fasta foi salvo como meugene.fasta.\n",
            "\n",
            "**************************** Informações ****************************\n",
            "Nome: NM_004502.4\n",
            "Descrição: NM_004502.4 Homo sapiens homeobox B7 (HOXB7), mRNA\n",
            "Tamanho: 1363\n",
            "\n",
            "**************************** Sequências ****************************\n",
            "* Sequência de DNA:\n",
            " CTTTTTGGTGTAAATCTGGACTCTAATTCTGTAATATATCAAGGAATCTCGTAAAACCGACACTAAAACGTCCCTGCCTACAAATCATCCGGCCAAATTATGAGTTCATTGTATTATGCGAATACTTTATTTTCTAAATATCCAGCCTCAAGTTCGGTTTTCGCTACCGGAGCCTTCCCAGAACAAACTTCTTGTGCGTTTGCTTCCAACCCCCAGCGCCCGGGCTATGGAGCGGGTTCGGGCGCTTCCTTCGCCGCCTCGATGCAGGGCTTGTACCCCGGCGGGGGGGGCATGGCGGGCCAGAGCGCGGCCGGCGTCTACGCGGCCGGCTATGGGCTCGAGCCGAGTTCCTTCAACATGCACTGCGCGCCCTTTGAGCAGAACCTCTCCGGGGTGTGTCCCGGCGACTCCGCCAAGGCGGCGGGCGCCAAGGAGCAGAGGGACTCGGACTTGGCGGCCGAGAGTAACTTCCGGATCTACCCCTGGATGCGAAGCTCAGGAACTGACCGCAAACGAGGCCGCCAGACCTACACCCGCTACCAGACCCTGGAGCTGGAGAAAGAATTTCACTACAATCGCTACCTGACGCGGCGGCGGCGCATCGAGATCGCGCACACGCTCTGCCTCACGGAAAGACAGATCAAGATTTGGTTTCAGAACCGGCGCATGAAGTGGAAAAAGGAGAACAAGACCGCGGGCCCGGGGACCACCGGCCAAGACAGGGCTGAAGCAGAGGAGGAAGAGGAAGAGTGAGGGATGGAGAAAGGGCAGAGGAAGAGACATGAGAAAGGGAGAGGAAGAGAAGCCCAGCTCTGGGAACTGAATCAGGAAACTCAAATCGAATAGGGAAGTAAAAAAACAAAACAAAAAACAAAAAAAACAAAAAAAAAACCCTATTTAAATGAAAGGAGTTTAAAAACATTTTTTAAGGAGGGAGAAAGGAGAAATTTTGGTTTTTCAACACTGAAAAAATACTACCTATAGGAAAGTCTGTCAGGTTTGGTTTTTTTGTACAATATGAAAAGGATATTATCTACCTGTTCTGTAGCTTTCTGGAATTTACCTCCCCTTTTCTATGTTGCTATTGTAAGGTCTTTGTAAAATCTTGCAGTTTTGTAAGCCCTCTTTAATGCTGTCTTTGTGGACTGTGGGTCTGGACTAACCCTGTGGTTGCCTGCCCTCCTGAGCCTCCGCCTTCCCAGCAGCGGCACCAAGGGGCCTTAGGGAGCCCCAAAACCTACCACTCGCGTGTTCCCCAAGCGCCTGGCTGCTGCTTCTTGCTTCCCGTCCCCCAGCCCCATGCTCCCTTTTACATTCTGTGTGTATCTAAAGGATGGAAAAATAAAACGCAATTAAAAATAAA\n",
            "\n",
            "* Sequência convertida em RNA:\n",
            " GAAAAACCACAUUUAGACCUGAGAUUAAGACAUUAUAUAGUUCCUUAGAGCAUUUUGGCUGUGAUUUUGCAGGGACGGAUGUUUAGUAGGCCGGUUUAAUACUCAAGUAACAUAAUACGCUUAUGAAAUAAAAGAUUUAUAGGUCGGAGUUCAAGCCAAAAGCGAUGGCCUCGGAAGGGUCUUGUUUGAAGAACACGCAAACGAAGGUUGGGGGUCGCGGGCCCGAUACCUCGCCCAAGCCCGCGAAGGAAGCGGCGGAGCUACGUCCCGAACAUGGGGCCGCCCCCCCCGUACCGCCCGGUCUCGCGCCGGCCGCAGAUGCGCCGGCCGAUACCCGAGCUCGGCUCAAGGAAGUUGUACGUGACGCGCGGGAAACUCGUCUUGGAGAGGCCCCACACAGGGCCGCUGAGGCGGUUCCGCCGCCCGCGGUUCCUCGUCUCCCUGAGCCUGAACCGCCGGCUCUCAUUGAAGGCCUAGAUGGGGACCUACGCUUCGAGUCCUUGACUGGCGUUUGCUCCGGCGGUCUGGAUGUGGGCGAUGGUCUGGGACCUCGACCUCUUUCUUAAAGUGAUGUUAGCGAUGGACUGCGCCGCCGCCGCGUAGCUCUAGCGCGUGUGCGAGACGGAGUGCCUUUCUGUCUAGUUCUAAACCAAAGUCUUGGCCGCGUACUUCACCUUUUUCCUCUUGUUCUGGCGCCCGGGCCCCUGGUGGCCGGUUCUGUCCCGACUUCGUCUCCUCCUUCUCCUUCUCACUCCCUACCUCUUUCCCGUCUCCUUCUCUGUACUCUUUCCCUCUCCUUCUCUUCGGGUCGAGACCCUUGACUUAGUCCUUUGAGUUUAGCUUAUCCCUUCAUUUUUUUGUUUUGUUUUUUGUUUUUUUUGUUUUUUUUUUGGGAUAAAUUUACUUUCCUCAAAUUUUUGUAAAAAAUUCCUCCCUCUUUCCUCUUUAAAACCAAAAAGUUGUGACUUUUUUAUGAUGGAUAUCCUUUCAGACAGUCCAAACCAAAAAAACAUGUUAUACUUUUCCUAUAAUAGAUGGACAAGACAUCGAAAGACCUUAAAUGGAGGGGAAAAGAUACAACGAUAACAUUCCAGAAACAUUUUAGAACGUCAAAACAUUCGGGAGAAAUUACGACAGAAACACCUGACACCCAGACCUGAUUGGGACACCAACGGACGGGAGGACUCGGAGGCGGAAGGGUCGUCGCCGUGGUUCCCCGGAAUCCCUCGGGGUUUUGGAUGGUGAGCGCACAAGGGGUUCGCGGACCGACGACGAAGAACGAAGGGCAGGGGGUCGGGGUACGAGGGAAAAUGUAAGACACACAUAGAUUUCCUACCUUUUUAUUUUGCGUUAAUUUUUAUUU\n"
          ]
        }
      ]
    },
    {
      "cell_type": "markdown",
      "source": [
        "## <font color=2C3E50><b> 03.Construção dos possiveis siRNA</b>\n",
        "<hr>"
      ],
      "metadata": {
        "id": "grnUxxRBYTh7"
      }
    },
    {
      "cell_type": "markdown",
      "source": [
        "\n",
        "Bloco de codigo onde se vai retirar as sequencias de possiveis de siRNAs"
      ],
      "metadata": {
        "id": "K4Q2jS4moooF"
      }
    },
    {
      "cell_type": "markdown",
      "source": [
        "<font color=82D712><b>Achando as possiveis sequencias de siRNA"
      ],
      "metadata": {
        "id": "9a7cSdGWjQGU"
      }
    },
    {
      "cell_type": "code",
      "source": [
        "possiveis_siRNA = []\n",
        "for index, sequence in enumerate(sequencia_convertida):\n",
        "   f = index+22\n",
        "   possiveis_siRNA.append(str(sequencia_convertida[index:f]))\n",
        "   siRNA = possiveis_siRNA[:-21]\n",
        "\n",
        "siRNA[:10]"
      ],
      "metadata": {
        "id": "aIYQxapyya-E",
        "colab": {
          "base_uri": "https://localhost:8080/"
        },
        "outputId": "064749ff-4b4a-42b1-9969-c7eee9f9a6ee"
      },
      "execution_count": 14,
      "outputs": [
        {
          "output_type": "execute_result",
          "data": {
            "text/plain": [
              "['GAAAAACCACAUUUAGACCUGA',\n",
              " 'AAAAACCACAUUUAGACCUGAG',\n",
              " 'AAAACCACAUUUAGACCUGAGA',\n",
              " 'AAACCACAUUUAGACCUGAGAU',\n",
              " 'AACCACAUUUAGACCUGAGAUU',\n",
              " 'ACCACAUUUAGACCUGAGAUUA',\n",
              " 'CCACAUUUAGACCUGAGAUUAA',\n",
              " 'CACAUUUAGACCUGAGAUUAAG',\n",
              " 'ACAUUUAGACCUGAGAUUAAGA',\n",
              " 'CAUUUAGACCUGAGAUUAAGAC']"
            ]
          },
          "metadata": {},
          "execution_count": 14
        }
      ]
    },
    {
      "cell_type": "markdown",
      "source": [
        "## <font color=2C3E50><b> 04. Classificação dos siRNA</b>\n",
        "<hr>"
      ],
      "metadata": {
        "id": "BOfwYk-gplMM"
      }
    },
    {
      "cell_type": "markdown",
      "source": [
        "Reynolds et al. (2004), Ui-Tei et al. (2004) e Amarzguioui et al. estabeleceram critérios para determinar a funcionalidade das sequências de siRNA, que incluem o conteúdo de CG%, temperatura de melting e baixa estabilidade interna.\n",
        "\n",
        "Se uma sequência atender a esses critérios, ela é considerada funcional. Os critérios são classificados em ordem de importância da seguinte forma:\n",
        "\n",
        "| Rank | Critério                                   | Pontuação |\n",
        "| ---- | ------------------------------------------ | --------- |\n",
        "| 1    | Ausência de repetições invertidas (hairpin) | -         |\n",
        "| 2    | Estabilidade interna baixa                 | -2 a 10   |\n",
        "| 3    | Baixo teor de GC                           | 0 ou 4    |\n",
        "| 4    | Posições específicas                       | -4 a 6    |\n",
        "\n",
        "Assim, os siRNAs candidatos são avaliados de acordo com esses critérios para determinar sua viabilidade. Para o primeiro critério, os siRNAs que não atendem são descartados. Para os demais critérios, é atribuída uma pontuação: 10 pontos para o critério de estabilidade baixa, 4 ponto para o critério de baixo teor GC e 1 ponto para o critério 4.\n",
        "\n",
        "É importante destacar que, no caso das posições específicas, cada posição que corresponde a um nucleotídeo ideal recebe 1 ponto, enquanto a não conformidade com essa posição retorna 0 pontos. Nas posições onde o nucleotídeo precisa ser específico, é deduzido 1 ponto se não estiver em conformidade.\n",
        "\n",
        "A pontuação então sera trasformada em pencentual, onde as sequencias apenas as sequencias com mais de 80% de conformidade seram levadas para as proximas fases.\n",
        "\n",
        "<hr>\n",
        "\n",
        "> <font size=\"2.5\"> codigo usado como base de biologyguy in <a href=\"https://github.com/biologyguy/public_scripts/blob/master/siRNA_predict.py\" rel=\"\">github</a>"
      ],
      "metadata": {
        "id": "MDEK-zEJoxm9"
      }
    },
    {
      "cell_type": "markdown",
      "source": [
        "<font color=82D712><b>Importando Bibliotecas"
      ],
      "metadata": {
        "id": "jLArPdYwpdhe"
      }
    },
    {
      "cell_type": "code",
      "source": [
        "import re\n",
        "from Bio.SeqUtils import MeltingTemp as mt\n",
        "from Bio.SeqUtils import gc_fraction\n",
        "from Bio.Seq import Seq\n",
        "import pandas as pd"
      ],
      "metadata": {
        "id": "yIe4RTYsz3em"
      },
      "execution_count": 7,
      "outputs": []
    },
    {
      "cell_type": "markdown",
      "source": [
        "<font color=82D712><b>Determinando a qualidade do siRNA"
      ],
      "metadata": {
        "id": "Z7i74cINpe_V"
      }
    },
    {
      "cell_type": "code",
      "source": [
        "def siRNA_score (sequence):\n",
        "  score = 0\n",
        "\n",
        "  # Ausência de repetições invertidas (Tm_GC)\n",
        "  tm = round(mt.Tm_GC(sequence), 4)\n",
        "  if tm > 21.5:\n",
        "    print(\"não funcional\") #trocar para remove() quando a lista de rna for produzida\n",
        "\n",
        "  # Estabilidade interna baixa\n",
        "  for letra in sequence[14:19]:\n",
        "    if letra == \"A\" or letra == \"U\":\n",
        "      score += 2\n",
        "    else:\n",
        "      score -= 2\n",
        "\n",
        "  # Conteudo Baixo GC\n",
        "  conteudo_gc = round(gc_fraction(sequence)*100, 2)\n",
        "  if 30 <= conteudo_gc <= 52:\n",
        "    score += 4\n",
        "\n",
        "  # Posições específicas - Critérios REYNOLDS et al. (2004) e AMARZGUIOUI et al. (2004)\n",
        "  if sequence[0] == \"A\" or sequence[9] != \"U\":\n",
        "    score += 1\n",
        "  if sequence[5] == \"A\":\n",
        "    score += 1\n",
        "  else: score -= 1\n",
        "  if sequence[9] == \"U\":\n",
        "    score += 1\n",
        "  if sequence[9] != \"G\":\n",
        "    score += 1\n",
        "  else: score -= 1\n",
        "  if sequence[18] != \"G\" and sequence[18] != \"C\":\n",
        "    score += 1\n",
        "  else: score -= 1\n",
        "  if sequence[18] == \"A\":\n",
        "    score += 1\n",
        "  else: score -= 1\n",
        "\n",
        "  return score, tm,"
      ],
      "metadata": {
        "id": "whJb5xJ1zbda"
      },
      "execution_count": 8,
      "outputs": []
    },
    {
      "cell_type": "markdown",
      "source": [
        "<font color=82D712><b>Verificando cada sequencia de siRNA e salvando suas pontuações"
      ],
      "metadata": {
        "id": "ojczaS6lPqFF"
      }
    },
    {
      "cell_type": "code",
      "source": [
        "for sequence in siRNA:\n",
        "  print(siRNA_score(sequence))"
      ],
      "metadata": {
        "id": "GIcisbvPxVQ_"
      },
      "execution_count": null,
      "outputs": []
    },
    {
      "cell_type": "markdown",
      "source": [
        "## <font color=2C3E50><b>05. Blast</b>\n",
        "<hr>\n"
      ],
      "metadata": {
        "id": "TLhU0AHFtzkY"
      }
    },
    {
      "cell_type": "markdown",
      "source": [
        "Essa parte é especializada em trazer as informações BLAST do arquivo fasta, porém o processamento é online, demorando alguns minutos"
      ],
      "metadata": {
        "id": "SAbSkREIo6Al"
      }
    },
    {
      "cell_type": "markdown",
      "source": [
        "<font color=82D712><b>Importando Bibliotecas"
      ],
      "metadata": {
        "id": "eFTWUzXipocM"
      }
    },
    {
      "cell_type": "code",
      "source": [],
      "metadata": {
        "id": "X2OCVZWuBkva"
      },
      "execution_count": 9,
      "outputs": []
    },
    {
      "cell_type": "markdown",
      "source": [
        "## <font color=2C3E50><b>06. Dataset, Visualização e plotly</b>\n",
        "<hr>"
      ],
      "metadata": {
        "id": "HYC1ndmDBXE-"
      }
    },
    {
      "cell_type": "code",
      "source": [],
      "metadata": {
        "id": "0S9dFk7eBlW6"
      },
      "execution_count": 9,
      "outputs": []
    }
  ]
}
