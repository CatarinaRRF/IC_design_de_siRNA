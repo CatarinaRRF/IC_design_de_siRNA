{
  "nbformat": 4,
  "nbformat_minor": 0,
  "metadata": {
    "colab": {
      "provenance": [],
      "collapsed_sections": [
        "XgQumBHZUa4E"
      ],
      "authorship_tag": "ABX9TyPFWqkDn1IykkW84n0ewQO4",
      "include_colab_link": true
    },
    "kernelspec": {
      "name": "python3",
      "display_name": "Python 3"
    },
    "language_info": {
      "name": "python"
    }
  },
  "cells": [
    {
      "cell_type": "markdown",
      "metadata": {
        "id": "view-in-github",
        "colab_type": "text"
      },
      "source": [
        "<a href=\"https://colab.research.google.com/github/CatarinaRRF/IC_design_de_siRNA/blob/main/code/IC_design_de_siRNA.ipynb\" target=\"_parent\"><img src=\"https://colab.research.google.com/assets/colab-badge.svg\" alt=\"Open In Colab\"/></a>"
      ]
    },
    {
      "cell_type": "markdown",
      "source": [
        "# <b><font color=2C3E50> IC - Design de siRNA</a></font></b>\n",
        "<hr color ='2C3E50' size=\"10\">"
      ],
      "metadata": {
        "id": "hIAEY7l_ZH45"
      }
    },
    {
      "cell_type": "markdown",
      "source": [
        "<font color=RED><b>O que precisa ser feito</b></font>\n",
        "<hr>\n",
        "\n",
        "* Descobrir os parametros\n",
        "\n",
        "<font color=RED><b>Erros e duvidas</b></font>\n",
        "<hr>\n",
        "\n",
        "* Quais seriam os parâmetros que seriam alterados caso se queira sequência de siRNA para pareamento em local específico ou outra característica específica ( modificado normalmente nos parâmetros de busca no Whitehead ou no Blast)\n",
        "\n"
      ],
      "metadata": {
        "id": "CFNQiiVyu0Uf"
      }
    },
    {
      "cell_type": "markdown",
      "source": [
        "## <font color=2C3E50><b> 01. Introdução</b>"
      ],
      "metadata": {
        "id": "XgQumBHZUa4E"
      }
    },
    {
      "cell_type": "markdown",
      "source": [
        "Com a crescente importância das pesquisas em biologia molecular e terapia genética, a identificação e seleção eficiente de pequenas moléculas de RNA interferente (siRNA) tornaram-se cruciais para a regulação precisa da expressão gênica. Neste contexto, é preciso criar um algoritmo que automatize e melhore a seleção de siRNA.\n",
        "\n",
        "O algoritimo que será desenvolido utilizará do banco de dados mantido pelo NCBI <i>gene</i> onde, a partir dos arquivos inseridos pelo usuario, será analizado a viabilidade dos possiveis siRNA produzidos. Terá então 9 etapas principais, resumidas a seguir:\n",
        "\n",
        "<br>\n",
        "\n",
        "<img style=\"display: inline; margin: 15px 0;\" title=\"heartica_logo\" src= https://raw.githubusercontent.com/CatarinaRRF/IC_design_de_siRNA/main/media/algoritimo_siRNA.png alt=\"\" />\n",
        "\n",
        "<b>Etapa 1: Entrada de Dados</b>\n",
        "\n",
        "O algoritmo recebe um arquivo FASTA inserido pelo usuario contendo sequências de DNA que se deseja analisar. Cada sequência no arquivo FASTA é identificada por um cabeçalho (linha que começa com \">\") e é seguida pela própria sequência.\n",
        "\n",
        "<b>Etapa 2: Transcrição das Sequências de DNA</b>\n",
        "\n",
        "Para a sequência de DNA encontrada no arquivo FASTA, o algoritmo realiza a transcrição, convertendo a sequência de DNA em uma sequência de RNA complementar.\n",
        "\n",
        "<b>Etapa 3: Identificação de siRNA</b>\n",
        "\n",
        "O algoritmo procura na sequência de RNA resultante por potenciais sequências de 22pb que serão potenciais siRNA.\n",
        "\n",
        "<b>Etapa 4: Verificação da Qualidade do siRNA</b>\n",
        "\n",
        "Cada sequência de siRNA identificada é submetida a uma análise de qualidade. Isso pode incluir a verificação da estrutura secundária, conteúdo de GC, estabilidade termodinâmica, e de posições de nucleotidios indicadas de acordo com a literatura consutada.\n",
        "\n",
        "<b>Etapa 5: Excluir siRNA que não se enquadram nos critérios</b>\n",
        "\n",
        "Os siRNAs que não atendem aos critérios de qualidade são excluídos da análise subsequente.\n",
        "\n",
        "<b>Etapa 6: Execução do BLAST</b>\n",
        "\n",
        "Para cada siRNA de qualidade, o algoritmo executa uma busca BLAST em um banco de dados de referência para encontrar alvos potenciais no transcriptoma. O BLAST ajuda a identificar possíveis correspondências com sequências conhecidas.\n",
        "\n",
        "<b>Etapa 7: Extração de Informações do BLAST</b>\n",
        "\n",
        "Após a execução do BLAST, o algoritmo extrai informações relevantes, como a sequência do alvo, o score do alinhamento e outros parâmetros importantes.\n",
        "\n",
        "<b>Etapa 8: Criação de Tabela de Resultados</b>\n",
        "\n",
        "Com as informações extraídas do BLAST, o algoritmo cria uma tabela de resultados que pode ser usada para análise posterior. Esta tabela inclui a sequência de siRNA, o score do BLAST, o algoritmo realiza a transcrição, convertendo a sequência de DNA em uma sequência de RNA complementar.\n",
        "\n",
        "<b>Etapa 9: Fim</b>\n",
        "\n",
        "O algoritmo conclui a análise das sequências de DNA, fornecendo uma tabela de resultados que pode ser usada para inferir a função ou alvo dos siRNAs identificados.\n",
        "\n"
      ],
      "metadata": {
        "id": "yBXt0VCVkad3"
      }
    },
    {
      "cell_type": "markdown",
      "source": [
        "## <font color=2C3E50><b> 02.Buscando a sequencia do Gene</b>\n",
        "\n"
      ],
      "metadata": {
        "id": "XUZGx3UHm-OQ"
      }
    },
    {
      "cell_type": "markdown",
      "source": [
        "Bloco de código onde o usuário adiciona o aquivo fasta baixado do NCBI, logo em seguida, será exibido detalhes do genes"
      ],
      "metadata": {
        "id": "yLVmUNTOofKX"
      }
    },
    {
      "cell_type": "markdown",
      "source": [
        "<font color=82D712><b>Importando Bibliotecas"
      ],
      "metadata": {
        "id": "a16tZKH4pLOd"
      }
    },
    {
      "cell_type": "code",
      "source": [
        "pip install biopython"
      ],
      "metadata": {
        "colab": {
          "base_uri": "https://localhost:8080/"
        },
        "id": "XV6GGbEXXCAk",
        "outputId": "7ef7bc17-8e4f-480a-c428-284346d384a3"
      },
      "execution_count": 1,
      "outputs": [
        {
          "output_type": "stream",
          "name": "stdout",
          "text": [
            "Collecting biopython\n",
            "  Downloading biopython-1.81-cp310-cp310-manylinux_2_17_x86_64.manylinux2014_x86_64.whl (3.1 MB)\n",
            "\u001b[?25l     \u001b[90m━━━━━━━━━━━━━━━━━━━━━━━━━━━━━━━━━━━━━━━━\u001b[0m \u001b[32m0.0/3.1 MB\u001b[0m \u001b[31m?\u001b[0m eta \u001b[36m-:--:--\u001b[0m\r\u001b[2K     \u001b[91m━━━\u001b[0m\u001b[90m╺\u001b[0m\u001b[90m━━━━━━━━━━━━━━━━━━━━━━━━━━━━━━━━━━━━\u001b[0m \u001b[32m0.3/3.1 MB\u001b[0m \u001b[31m7.6 MB/s\u001b[0m eta \u001b[36m0:00:01\u001b[0m\r\u001b[2K     \u001b[91m━━━━━━━━\u001b[0m\u001b[91m╸\u001b[0m\u001b[90m━━━━━━━━━━━━━━━━━━━━━━━━━━━━━━━\u001b[0m \u001b[32m0.7/3.1 MB\u001b[0m \u001b[31m9.5 MB/s\u001b[0m eta \u001b[36m0:00:01\u001b[0m\r\u001b[2K     \u001b[91m━━━━━━━━━━━━━━━\u001b[0m\u001b[90m╺\u001b[0m\u001b[90m━━━━━━━━━━━━━━━━━━━━━━━━\u001b[0m \u001b[32m1.2/3.1 MB\u001b[0m \u001b[31m11.2 MB/s\u001b[0m eta \u001b[36m0:00:01\u001b[0m\r\u001b[2K     \u001b[91m━━━━━━━━━━━━━━━━━━━━━━\u001b[0m\u001b[91m╸\u001b[0m\u001b[90m━━━━━━━━━━━━━━━━━\u001b[0m \u001b[32m1.8/3.1 MB\u001b[0m \u001b[31m12.6 MB/s\u001b[0m eta \u001b[36m0:00:01\u001b[0m\r\u001b[2K     \u001b[91m━━━━━━━━━━━━━━━━━━━━━━━━━━━━━━━━\u001b[0m\u001b[91m╸\u001b[0m\u001b[90m━━━━━━━\u001b[0m \u001b[32m2.5/3.1 MB\u001b[0m \u001b[31m14.5 MB/s\u001b[0m eta \u001b[36m0:00:01\u001b[0m\r\u001b[2K     \u001b[91m━━━━━━━━━━━━━━━━━━━━━━━━━━━━━━━━━━━━━━━\u001b[0m\u001b[91m╸\u001b[0m \u001b[32m3.1/3.1 MB\u001b[0m \u001b[31m15.7 MB/s\u001b[0m eta \u001b[36m0:00:01\u001b[0m\r\u001b[2K     \u001b[90m━━━━━━━━━━━━━━━━━━━━━━━━━━━━━━━━━━━━━━━━\u001b[0m \u001b[32m3.1/3.1 MB\u001b[0m \u001b[31m14.4 MB/s\u001b[0m eta \u001b[36m0:00:00\u001b[0m\n",
            "\u001b[?25hRequirement already satisfied: numpy in /usr/local/lib/python3.10/dist-packages (from biopython) (1.23.5)\n",
            "Installing collected packages: biopython\n",
            "Successfully installed biopython-1.81\n"
          ]
        }
      ]
    },
    {
      "cell_type": "code",
      "source": [
        "import Bio\n",
        "from Bio import Entrez\n",
        "from Bio import SeqIO\n",
        "from Bio.Seq import Seq"
      ],
      "metadata": {
        "id": "5czcPOfzVrt3"
      },
      "execution_count": 2,
      "outputs": []
    },
    {
      "cell_type": "markdown",
      "source": [
        "###<font color=82D712><b> Insirindo os dados"
      ],
      "metadata": {
        "id": "KH-VMiIXL-E8"
      }
    },
    {
      "cell_type": "code",
      "source": [
        "from Bio import SeqIO\n",
        "\n",
        "# selecionar o arquivo FASTA\n",
        "nome_arquivo = \"/content/sequence.fasta\"\n",
        "\n",
        "try:\n",
        "    # Le o arquivo FASTA e armazena as sequencias em uma lista\n",
        "    sequencias = list(SeqIO.parse(nome_arquivo, 'fasta'))\n",
        "\n",
        "    # Verifica se o arquivo nao está vazio\n",
        "    if len(sequencias) > 0:\n",
        "        # Define o nome do arquivo de saída\n",
        "        nome_arquivo_saida = 'meugene.fasta'\n",
        "\n",
        "        # Salva as sequencias no arquivo de saida\n",
        "        SeqIO.write(sequencias, nome_arquivo_saida, 'fasta')\n",
        "        print(f'O arquivo {nome_arquivo} foi salvo como {nome_arquivo_saida}.')\n",
        "\n",
        "        # Exibe os dados das sequencias para o usuario\n",
        "        for sequencia in sequencias:\n",
        "            print()\n",
        "            print(\"*\"*28, 'Informações', \"*\"*28)\n",
        "            print(f'Nome: {sequencia.name}')\n",
        "            print(f'Descrição: {sequencia.description}')\n",
        "            print(f'Tamanho: {len(sequencia.seq)}')\n",
        "\n",
        "            # Converte as letras T para U\n",
        "            a = sequencia.seq.reverse_complement()\n",
        "            sequencia_convertida = Bio.Seq.transcribe(a)\n",
        "\n",
        "            print()\n",
        "            print(\"*\"*28, 'Sequências', \"*\"*28)\n",
        "            print(f'* Sequência de DNA:\\n {sequencia.seq}')\n",
        "            print(f'\\n* RNA complementar reverso:\\n {sequencia_convertida}')\n",
        "    else:\n",
        "        print('O arquivo FASTA está vazio.')\n",
        "except Exception as e:\n",
        "    print(f'Ocorreu um erro ao ler o arquivo FASTA: {str(e)}')"
      ],
      "metadata": {
        "colab": {
          "base_uri": "https://localhost:8080/"
        },
        "id": "ZgPSkaEYg3FV",
        "outputId": "2660dcb0-f918-48f9-9a08-3ec8ead29ad3"
      },
      "execution_count": 3,
      "outputs": [
        {
          "output_type": "stream",
          "name": "stdout",
          "text": [
            "O arquivo /content/sequence.fasta foi salvo como meugene.fasta.\n",
            "\n",
            "**************************** Informações ****************************\n",
            "Nome: NM_004502.4\n",
            "Descrição: NM_004502.4 Homo sapiens homeobox B7 (HOXB7), mRNA\n",
            "Tamanho: 1363\n",
            "\n",
            "**************************** Sequências ****************************\n",
            "* Sequência de DNA:\n",
            " CTTTTTGGTGTAAATCTGGACTCTAATTCTGTAATATATCAAGGAATCTCGTAAAACCGACACTAAAACGTCCCTGCCTACAAATCATCCGGCCAAATTATGAGTTCATTGTATTATGCGAATACTTTATTTTCTAAATATCCAGCCTCAAGTTCGGTTTTCGCTACCGGAGCCTTCCCAGAACAAACTTCTTGTGCGTTTGCTTCCAACCCCCAGCGCCCGGGCTATGGAGCGGGTTCGGGCGCTTCCTTCGCCGCCTCGATGCAGGGCTTGTACCCCGGCGGGGGGGGCATGGCGGGCCAGAGCGCGGCCGGCGTCTACGCGGCCGGCTATGGGCTCGAGCCGAGTTCCTTCAACATGCACTGCGCGCCCTTTGAGCAGAACCTCTCCGGGGTGTGTCCCGGCGACTCCGCCAAGGCGGCGGGCGCCAAGGAGCAGAGGGACTCGGACTTGGCGGCCGAGAGTAACTTCCGGATCTACCCCTGGATGCGAAGCTCAGGAACTGACCGCAAACGAGGCCGCCAGACCTACACCCGCTACCAGACCCTGGAGCTGGAGAAAGAATTTCACTACAATCGCTACCTGACGCGGCGGCGGCGCATCGAGATCGCGCACACGCTCTGCCTCACGGAAAGACAGATCAAGATTTGGTTTCAGAACCGGCGCATGAAGTGGAAAAAGGAGAACAAGACCGCGGGCCCGGGGACCACCGGCCAAGACAGGGCTGAAGCAGAGGAGGAAGAGGAAGAGTGAGGGATGGAGAAAGGGCAGAGGAAGAGACATGAGAAAGGGAGAGGAAGAGAAGCCCAGCTCTGGGAACTGAATCAGGAAACTCAAATCGAATAGGGAAGTAAAAAAACAAAACAAAAAACAAAAAAAACAAAAAAAAAACCCTATTTAAATGAAAGGAGTTTAAAAACATTTTTTAAGGAGGGAGAAAGGAGAAATTTTGGTTTTTCAACACTGAAAAAATACTACCTATAGGAAAGTCTGTCAGGTTTGGTTTTTTTGTACAATATGAAAAGGATATTATCTACCTGTTCTGTAGCTTTCTGGAATTTACCTCCCCTTTTCTATGTTGCTATTGTAAGGTCTTTGTAAAATCTTGCAGTTTTGTAAGCCCTCTTTAATGCTGTCTTTGTGGACTGTGGGTCTGGACTAACCCTGTGGTTGCCTGCCCTCCTGAGCCTCCGCCTTCCCAGCAGCGGCACCAAGGGGCCTTAGGGAGCCCCAAAACCTACCACTCGCGTGTTCCCCAAGCGCCTGGCTGCTGCTTCTTGCTTCCCGTCCCCCAGCCCCATGCTCCCTTTTACATTCTGTGTGTATCTAAAGGATGGAAAAATAAAACGCAATTAAAAATAAA\n",
            "\n",
            "* RNA complementar reverso:\n",
            " UUUAUUUUUAAUUGCGUUUUAUUUUUCCAUCCUUUAGAUACACACAGAAUGUAAAAGGGAGCAUGGGGCUGGGGGACGGGAAGCAAGAAGCAGCAGCCAGGCGCUUGGGGAACACGCGAGUGGUAGGUUUUGGGGCUCCCUAAGGCCCCUUGGUGCCGCUGCUGGGAAGGCGGAGGCUCAGGAGGGCAGGCAACCACAGGGUUAGUCCAGACCCACAGUCCACAAAGACAGCAUUAAAGAGGGCUUACAAAACUGCAAGAUUUUACAAAGACCUUACAAUAGCAACAUAGAAAAGGGGAGGUAAAUUCCAGAAAGCUACAGAACAGGUAGAUAAUAUCCUUUUCAUAUUGUACAAAAAAACCAAACCUGACAGACUUUCCUAUAGGUAGUAUUUUUUCAGUGUUGAAAAACCAAAAUUUCUCCUUUCUCCCUCCUUAAAAAAUGUUUUUAAACUCCUUUCAUUUAAAUAGGGUUUUUUUUUUGUUUUUUUUGUUUUUUGUUUUGUUUUUUUACUUCCCUAUUCGAUUUGAGUUUCCUGAUUCAGUUCCCAGAGCUGGGCUUCUCUUCCUCUCCCUUUCUCAUGUCUCUUCCUCUGCCCUUUCUCCAUCCCUCACUCUUCCUCUUCCUCCUCUGCUUCAGCCCUGUCUUGGCCGGUGGUCCCCGGGCCCGCGGUCUUGUUCUCCUUUUUCCACUUCAUGCGCCGGUUCUGAAACCAAAUCUUGAUCUGUCUUUCCGUGAGGCAGAGCGUGUGCGCGAUCUCGAUGCGCCGCCGCCGCGUCAGGUAGCGAUUGUAGUGAAAUUCUUUCUCCAGCUCCAGGGUCUGGUAGCGGGUGUAGGUCUGGCGGCCUCGUUUGCGGUCAGUUCCUGAGCUUCGCAUCCAGGGGUAGAUCCGGAAGUUACUCUCGGCCGCCAAGUCCGAGUCCCUCUGCUCCUUGGCGCCCGCCGCCUUGGCGGAGUCGCCGGGACACACCCCGGAGAGGUUCUGCUCAAAGGGCGCGCAGUGCAUGUUGAAGGAACUCGGCUCGAGCCCAUAGCCGGCCGCGUAGACGCCGGCCGCGCUCUGGCCCGCCAUGCCCCCCCCGCCGGGGUACAAGCCCUGCAUCGAGGCGGCGAAGGAAGCGCCCGAACCCGCUCCAUAGCCCGGGCGCUGGGGGUUGGAAGCAAACGCACAAGAAGUUUGUUCUGGGAAGGCUCCGGUAGCGAAAACCGAACUUGAGGCUGGAUAUUUAGAAAAUAAAGUAUUCGCAUAAUACAAUGAACUCAUAAUUUGGCCGGAUGAUUUGUAGGCAGGGACGUUUUAGUGUCGGUUUUACGAGAUUCCUUGAUAUAUUACAGAAUUAGAGUCCAGAUUUACACCAAAAAG\n"
          ]
        }
      ]
    },
    {
      "cell_type": "markdown",
      "source": [
        "## <font color=2C3E50><b> 03.Construção dos possiveis siRNA</b>\n",
        "<hr>"
      ],
      "metadata": {
        "id": "grnUxxRBYTh7"
      }
    },
    {
      "cell_type": "markdown",
      "source": [
        "\n",
        "retira-se as sequencias de possiveis de siRNAs"
      ],
      "metadata": {
        "id": "K4Q2jS4moooF"
      }
    },
    {
      "cell_type": "markdown",
      "source": [
        "<font color=82D712><b>Achando as possiveis sequencias de siRNA"
      ],
      "metadata": {
        "id": "9a7cSdGWjQGU"
      }
    },
    {
      "cell_type": "code",
      "source": [
        "possiveis_siRNA = []\n",
        "for index, sequence in enumerate(sequencia_convertida):\n",
        "   f = index+22\n",
        "   possiveis_siRNA.append(str(sequencia_convertida[index:f]))\n",
        "   siRNA = possiveis_siRNA[:-21]\n",
        "\n",
        "siRNA[-10:]"
      ],
      "metadata": {
        "id": "aIYQxapyya-E",
        "colab": {
          "base_uri": "https://localhost:8080/"
        },
        "outputId": "44d3cf2b-1fe2-48f2-c1c8-f9d7d98e4016"
      },
      "execution_count": 4,
      "outputs": [
        {
          "output_type": "execute_result",
          "data": {
            "text/plain": [
              "['CAGAAUUAGAGUCCAGAUUUAC',\n",
              " 'AGAAUUAGAGUCCAGAUUUACA',\n",
              " 'GAAUUAGAGUCCAGAUUUACAC',\n",
              " 'AAUUAGAGUCCAGAUUUACACC',\n",
              " 'AUUAGAGUCCAGAUUUACACCA',\n",
              " 'UUAGAGUCCAGAUUUACACCAA',\n",
              " 'UAGAGUCCAGAUUUACACCAAA',\n",
              " 'AGAGUCCAGAUUUACACCAAAA',\n",
              " 'GAGUCCAGAUUUACACCAAAAA',\n",
              " 'AGUCCAGAUUUACACCAAAAAG']"
            ]
          },
          "metadata": {},
          "execution_count": 4
        }
      ]
    },
    {
      "cell_type": "markdown",
      "source": [
        "## <font color=2C3E50><b> 04. Classificação dos siRNA</b>\n",
        "<hr>"
      ],
      "metadata": {
        "id": "BOfwYk-gplMM"
      }
    },
    {
      "cell_type": "markdown",
      "source": [
        "Reynolds et al. (2004), Ui-Tei et al. (2004) e Amarzguioui et al. estabeleceram critérios para determinar a funcionalidade das sequências de siRNA, que incluem o conteúdo de CG%, temperatura de melting e baixa estabilidade interna.\n",
        "\n",
        "Se uma sequência atender a esses critérios, ela é considerada funcional. Os critérios são classificados em ordem de importância da seguinte forma:\n",
        "\n",
        "| Rank | Critério                                   | Pontuação |\n",
        "| ---- | ------------------------------------------ | --------- |\n",
        "| 1    | Ausência de repetições invertidas (hairpin) | -         |\n",
        "| 2    | Estabilidade interna baixa                 | -2 a 10   |\n",
        "| 3    | Baixo teor de GC                           | 0 ou 4    |\n",
        "| 4    | Posições específicas                       | -4 a 6    |\n",
        "\n",
        "Assim, os siRNAs candidatos são avaliados de acordo com esses critérios para determinar sua viabilidade. Para o primeiro critério, os siRNAs que não atendem são descartados. Para os demais critérios, é atribuída uma pontuação: 10 pontos para o critério de estabilidade baixa, 4 ponto para o critério de baixo teor GC e 1 ponto para o critério 4.\n",
        "\n",
        "É importante destacar que, no caso das posições específicas, cada posição que corresponde a um nucleotídeo ideal recebe 1 ponto, enquanto a não conformidade com essa posição retorna 0 pontos. Nas posições onde o nucleotídeo precisa ser específico, é deduzido 1 ponto se não estiver em conformidade.\n",
        "\n",
        "A pontuação então sera trasformada em pencentual, onde apenas as sequencias com mais de 80% de conformidade seram levadas para as proximas fases.\n",
        "\n",
        "<hr>\n",
        "\n",
        "> <font size=\"2.5\"> codigo usado como base de biologyguy in <a href=\"https://github.com/biologyguy/public_scripts/blob/master/siRNA_predict.py\" rel=\"\">github</a>"
      ],
      "metadata": {
        "id": "MDEK-zEJoxm9"
      }
    },
    {
      "cell_type": "markdown",
      "source": [
        "<font color=82D712><b>Importando Bibliotecas"
      ],
      "metadata": {
        "id": "jLArPdYwpdhe"
      }
    },
    {
      "cell_type": "code",
      "source": [
        "import re\n",
        "from Bio.SeqUtils import MeltingTemp as mt\n",
        "from Bio.SeqUtils import gc_fraction\n",
        "from Bio.Seq import Seq\n",
        "import pandas as pd"
      ],
      "metadata": {
        "id": "yIe4RTYsz3em"
      },
      "execution_count": 5,
      "outputs": []
    },
    {
      "cell_type": "markdown",
      "source": [
        "<font color=82D712><b>Determinando a qualidade do siRNA"
      ],
      "metadata": {
        "id": "Z7i74cINpe_V"
      }
    },
    {
      "cell_type": "code",
      "source": [
        "def siRNA_score (sequence, MaxTm, index):\n",
        "  score = 0\n",
        "\n",
        "  # Ausência de repetições invertidas Tm\n",
        "  tm = round(mt.Tm_GC(sequence), 4)\n",
        "  #-------------------------------------------------#\n",
        "\n",
        "  # Estabilidade interna baixa\n",
        "  for letra in sequence[14:19]:\n",
        "    if letra == \"A\" or letra == \"U\":\n",
        "      score += 2\n",
        "    else:\n",
        "      score -= 2\n",
        "  #-------------------------------------------------#\n",
        "\n",
        "  # Conteudo Baixo GC\n",
        "  conteudo_gc = round(gc_fraction(sequence)*100, 2)\n",
        "  if 30 <= conteudo_gc <= 52:\n",
        "    score += 4\n",
        "  #-------------------------------------------------#\n",
        "\n",
        "  # Posições específicas - Critérios REYNOLDS et al. (2004) e AMARZGUIOUI et al. (2004)\n",
        "  if sequence[0] == \"A\" or sequence[9] != \"U\":\n",
        "    score += 1\n",
        "  if sequence[5] == \"A\":\n",
        "    score += 1\n",
        "  else: score -= 1\n",
        "  if sequence[9] == \"U\":\n",
        "    score += 1\n",
        "  if sequence[9] != \"G\":\n",
        "    score += 1\n",
        "  else: score -= 1\n",
        "  if sequence[18] != \"G\" and sequence[18] != \"C\":\n",
        "    score += 1\n",
        "  else: score -= 1\n",
        "  if sequence[18] == \"A\":\n",
        "    score += 1\n",
        "  else: score -= 1\n",
        "  #-------------------------------------------------#\n",
        "\n",
        "  return score, tm, conteudo_gc, MaxTm"
      ],
      "metadata": {
        "id": "whJb5xJ1zbda"
      },
      "execution_count": 6,
      "outputs": []
    },
    {
      "cell_type": "markdown",
      "source": [
        "<font color=82D712><b>Verificando cada sequencia de siRNA e salvando suas pontuações"
      ],
      "metadata": {
        "id": "ojczaS6lPqFF"
      }
    },
    {
      "cell_type": "code",
      "source": [
        "# Definindo Variaveis\n",
        "siRNA_verificados = []\n",
        "score = []\n",
        "tm = []\n",
        "conteudo_gc = []\n",
        "#-------------------------------------------------#\n",
        "\n",
        "for index, sequence in enumerate(siRNA):\n",
        "  #Veficando a qualidade\n",
        "  resultado = siRNA_score(sequence, 60, index)\n",
        "\n",
        "  #Exclui RNAs indesejadas\n",
        "  if resultado[0] <= 16 or resultado[1] > resultado[3]:\n",
        "    siRNA.pop(index)\n",
        "  else:\n",
        "  #Salvando os parametros\n",
        "    siRNA_verificados.append(sequence)\n",
        "    score.append(resultado[0])\n",
        "    tm.append(resultado[1])\n",
        "    conteudo_gc.append(resultado[2])\n",
        "\n",
        "  # Printando as sequencias possiveis\n",
        "    print(sequence, 'score:', resultado[0], 'Tm:', resultado[1])"
      ],
      "metadata": {
        "id": "GIcisbvPxVQ_",
        "colab": {
          "base_uri": "https://localhost:8080/"
        },
        "outputId": "d3bb7753-bc4e-4915-a778-1765c4283b79"
      },
      "execution_count": 7,
      "outputs": [
        {
          "output_type": "stream",
          "name": "stdout",
          "text": [
            "UAUUUUUAAUUGCGUUUUAUUU score: 17 Tm: 38.2211\n",
            "CCACAAAGACAGCAUUAAAGAG score: 19 Tm: 49.4029\n",
            "ACAAAACUGCAAGAUUUUACAA score: 19 Tm: 43.812\n",
            "ACAGAACAGGUAGAUAAUAUCC score: 17 Tm: 47.5393\n",
            "AUAAUAUCCUUUUCAUAUUGUA score: 18 Tm: 40.0847\n",
            "UUCAUAUUGUACAAAAAAACCA score: 19 Tm: 41.9484\n",
            "UGUUGAAAAACCAAAAUUUCUC score: 17 Tm: 43.812\n",
            "UCCUUAAAAAAUGUUUUUAAAC score: 19 Tm: 40.0847\n",
            "CCUUAAAAAAUGUUUUUAAACU score: 19 Tm: 40.0847\n",
            "CUUAAAAAAUGUUUUUAAACUC score: 19 Tm: 40.0847\n",
            "UUUAAACUCCUUUCAUUUAAAU score: 19 Tm: 40.0847\n",
            "UUAAACUCCUUUCAUUUAAAUA score: 17 Tm: 40.0847\n",
            "UAAACUCCUUUCAUUUAAAUAG score: 17 Tm: 41.9484\n",
            "CAUUUAAAUAGGGUUUUUUUUU score: 17 Tm: 40.0847\n",
            "CUGGAUAUUUAGAAAAUAAAGU score: 17 Tm: 41.9484\n",
            "AUAAAGUAUUCGCAUAAUACAA score: 18 Tm: 41.9484\n",
            "AAUACAAUGAACUCAUAAUUUG score: 17 Tm: 41.9484\n",
            "AUACAAUGAACUCAUAAUUUGG score: 17 Tm: 43.812\n",
            "UACGAGAUUCCUUGAUAUAUUA score: 17 Tm: 43.812\n",
            "ACGAGAUUCCUUGAUAUAUUAC score: 17 Tm: 45.6756\n",
            "GAAUUAGAGUCCAGAUUUACAC score: 19 Tm: 47.5393\n"
          ]
        }
      ]
    },
    {
      "cell_type": "markdown",
      "source": [
        "## <font color=2C3E50><b>05. Blast</b>\n",
        "<hr>\n"
      ],
      "metadata": {
        "id": "TLhU0AHFtzkY"
      }
    },
    {
      "cell_type": "markdown",
      "source": [
        "Essa parte tras as informações BLAST do arquivo fasta, porém o processamento é online, demorando alguns minutos"
      ],
      "metadata": {
        "id": "SAbSkREIo6Al"
      }
    },
    {
      "cell_type": "markdown",
      "source": [
        "<font color=82D712><b> Criando um fasta"
      ],
      "metadata": {
        "id": "mTrwJT6I2rf2"
      }
    },
    {
      "cell_type": "code",
      "source": [
        "from Bio.Seq import Seq\n",
        "from Bio.SeqRecord import SeqRecord\n",
        "from Bio import SeqIO"
      ],
      "metadata": {
        "id": "vVWBBQ713ihV"
      },
      "execution_count": 8,
      "outputs": []
    },
    {
      "cell_type": "code",
      "source": [
        "records = []\n",
        "for index, sequence in enumerate(siRNA_verificados):\n",
        "    # Criando o cabeçalho enumerado\n",
        "    header = f\"sequencia_{index+1}\"\n",
        "\n",
        "    # Criando um objeto SeqRecord com a sequência e o cabeçalho\n",
        "    record = SeqRecord(Seq(sequence), id=header, description=\"\")\n",
        "\n",
        "    # Adicionando o registro à lista\n",
        "    records.append(record)\n",
        "\n",
        "# Salvando os registros no arquivo FASTA\n",
        "fasta_filename = \"minha_sequencia.fasta\"\n",
        "with open(fasta_filename, \"w\") as output_file:\n",
        "    SeqIO.write(records, output_file, \"fasta\")\n",
        "\n",
        "print(f\"As sequências foram salvas em '{fasta_filename}'.\")\n"
      ],
      "metadata": {
        "colab": {
          "base_uri": "https://localhost:8080/"
        },
        "id": "CT9cjUQx2rI8",
        "outputId": "92534a89-5f93-4acd-9681-34ae245a78ae"
      },
      "execution_count": 9,
      "outputs": [
        {
          "output_type": "stream",
          "name": "stdout",
          "text": [
            "As sequências foram salvas em 'minha_sequencia.fasta'.\n"
          ]
        }
      ]
    },
    {
      "cell_type": "markdown",
      "source": [
        "<font color=82D712><b>Rodando o BLAST"
      ],
      "metadata": {
        "id": "7Vnf6iNM2u23"
      }
    },
    {
      "cell_type": "markdown",
      "source": [
        "* O max score é o valor máximo que pode ser obtido naquele alinhamento, enquanto o total score é o valor obtido pelo alinhamento. Se o total score for igual ao max score significa que o alinhamento obteve o maior valor possível.\n",
        "* Cobertura da query é um valor dos parâmetros do alinhamento que demonstra o quanto da sequência enviada conseguiu realizar um alinhamento. Esse valor é importante de ser analisado, uma vez que podem existir casos em que apenas um pedaço da sequência enviada seja alinhada e, por isso, os valores do alinhamento sejam bons.\n",
        "* E-value é um parâmetro muito importante do alinhamento. Ele demonstra a possibilidade do alinhamento ter sido realizado ao acaso. Quanto mais próximo ao zero (0) o valor for, mais confiabilidade pode se ter no alinhamento.\n",
        "* A porcentagem de identidade está relacionada com a similaridade da sequência enviada pelo usuário com a sequência alinhada, levando-se em consideração a cobertura da sequência."
      ],
      "metadata": {
        "id": "mKo-DH_JSLdx"
      }
    },
    {
      "cell_type": "code",
      "source": [
        "from Bio import SeqIO\n",
        "from Bio.Blast import NCBIWWW\n",
        "from Bio.Blast import NCBIXML"
      ],
      "metadata": {
        "id": "AReux-AidA4g"
      },
      "execution_count": 10,
      "outputs": []
    },
    {
      "cell_type": "code",
      "source": [
        "%%time\n",
        "fasta_string = open(\"meugene.fasta\").read()\n",
        "result_handle = NCBIWWW.qblast(\"blastn\", \"refseq_rna\", fasta_string)\n",
        "\n",
        "blast_records = NCBIXML.parse(result_handle)\n",
        "print(\"{:<20} {:<20} {:<10} {:<10} {:<10} {:<10} {:<10} {:<10} {:<10}\".format(\"description\", \"scientific name\", \"max score\", \"total score\", \"query cover\", \"E value\", \"per. ident\", \"acc. len\", \"accession\"))\n",
        "alignments = []\n",
        "for blast_record in blast_records:\n",
        "    for alignment in blast_record.alignments:\n",
        "        for hsp in alignment.hsps:\n",
        "            if hsp.expect < 0.01:\n",
        "                alignments.append((\n",
        "                    alignment.hit_def[:20],\n",
        "                    alignment.hit_id.split(\"|\")[4][:20],\n",
        "                    hsp.score,\n",
        "                    hsp.bits,\n",
        "                    hsp.align_length / blast_record.query_length,\n",
        "                    hsp.expect,\n",
        "                    hsp.identities / hsp.align_length,\n",
        "                    alignment.length,\n",
        "                    alignment.accession\n",
        "                ))\n",
        "alignments.sort(key=lambda x: x[5])\n",
        "for alignment in alignments:\n",
        "    print(\"{:<20} {:<20} {:<10} {:<10} {:<10.2f} {:<10.2e} {:<10.2f} {:<10} {:<10}\".format(*alignment))\n"
      ],
      "metadata": {
        "id": "X2OCVZWuBkva",
        "colab": {
          "base_uri": "https://localhost:8080/"
        },
        "outputId": "3a5e8963-8628-4187-a09a-fbab18cc150a"
      },
      "execution_count": 11,
      "outputs": [
        {
          "output_type": "stream",
          "name": "stdout",
          "text": [
            "description          scientific name      max score  total score query cover E value    per. ident acc. len   accession \n",
            "Homo sapiens homeobo                      2726.0     2459.28    1.00       0.00e+00   1.00       1363       NM_004502 \n",
            "PREDICTED: Pan trogl                      2665.0     2404.28    1.00       0.00e+00   0.99       1628       XM_511938 \n",
            "PREDICTED: Gorilla g                      2596.0     2342.06    1.00       0.00e+00   0.98       1387       XM_004041393\n",
            "PREDICTED: Hylobates                      2552.0     2302.38    0.99       0.00e+00   0.98       1354       XM_032163347\n",
            "PREDICTED: Pongo abe                      2538.0     2289.76    1.00       0.00e+00   0.97       1382       XM_002834255\n",
            "PREDICTED: Pongo pyg                      2523.0     2276.24    1.00       0.00e+00   0.97       1373       XM_054455998\n",
            "PREDICTED: Symphalan                      2522.0     2275.33    1.00       0.00e+00   0.97       1362       XM_055258483\n",
            "PREDICTED: Nomascus                       2493.0     2249.19    0.99       0.00e+00   0.97       1343       XM_030807969\n",
            "PREDICTED: Pan panis                      2490.0     2246.48    0.94       0.00e+00   0.99       1278       XM_003827505\n",
            "PREDICTED: Macaca mu                      2481.0     2238.37    1.00       0.00e+00   0.96       2114       XM_028836401\n",
            "PREDICTED: Macaca mu                      2481.0     2238.37    1.00       0.00e+00   0.96       2036       XM_001088822\n",
            "PREDICTED: Macaca th                      2478.0     2235.66    1.00       0.00e+00   0.96       1378       XM_050762901\n",
            "PREDICTED: Papio anu                      2452.0     2212.22    1.00       0.00e+00   0.96       1399       XM_003912680\n",
            "PREDICTED: Trachypit                      2437.0     2198.69    1.00       0.00e+00   0.96       1353       XM_033183356\n",
            "PREDICTED: Cercocebu                      2429.0     2191.48    1.00       0.00e+00   0.96       1390       XM_012046272\n",
            "PREDICTED: Rhinopith                      2428.0     2190.58    1.00       0.00e+00   0.96       1352       XM_017854033\n",
            "PREDICTED: Chloroceb                      2426.0     2188.77    1.00       0.00e+00   0.95       1341       XM_008013016\n",
            "PREDICTED: Theropith                      2422.0     2185.17    1.00       0.00e+00   0.95       1347       XM_025362537\n",
            "PREDICTED: Macaca fa                      2415.0     2178.85    0.99       0.00e+00   0.96       1328       XM_005583572\n",
            "PREDICTED: Piliocolo                      2409.0     2173.44    1.00       0.00e+00   0.95       1377       XM_023204378\n",
            "PREDICTED: Macaca ne                      2401.0     2166.23    1.00       0.00e+00   0.95       1387       XM_011725454\n",
            "PREDICTED: Mandrillu                      2399.0     2164.43    1.00       0.00e+00   0.95       1345       XM_011999334\n",
            "PREDICTED: Colobus a                      2390.0     2156.31    1.00       0.00e+00   0.95       1337       XM_011959879\n",
            "PREDICTED: Cebus imi                      2244.0     2024.67    1.00       0.00e+00   0.93       2042       XM_017497010\n",
            "PREDICTED: Saimiri b                      2227.0     2009.34    1.02       0.00e+00   0.91       1685       XM_003931231\n",
            "PREDICTED: Aotus nan                      2221.0     2003.93    1.00       0.00e+00   0.92       1349       XM_012451845\n",
            "PREDICTED: Sapajus a                      2220.0     2003.03    1.00       0.00e+00   0.93       2130       XM_032279898\n",
            "PREDICTED: Callithri                      2178.0     1965.15    1.01       0.00e+00   0.91       2079       XM_017972695\n",
            "PREDICTED: Lemur cat                      1949.0     1758.67    1.03       0.00e+00   0.88       2013       XM_045526281\n",
            "PREDICTED: Lemur cat                      1949.0     1758.67    1.03       0.00e+00   0.88       2065       XM_045526280\n",
            "PREDICTED: Galeopter                      1900.0     1714.49    1.02       0.00e+00   0.88       1349       XM_008568885\n",
            "PREDICTED: Camelus f                      1897.0     1711.78    1.02       0.00e+00   0.88       1366       XM_006176404\n",
            "PREDICTED: Ovis arie                      1892.0     1707.27    1.02       0.00e+00   0.88       2061       XM_004012804\n",
            "PREDICTED: Camelus d                      1890.0     1705.47    1.02       0.00e+00   0.88       1359       XM_010987968\n",
            "PREDICTED: Vicugna p                      1877.0     1693.75    1.02       0.00e+00   0.88       1365       XM_006214191\n",
            "PREDICTED: Hippopota                      1875.0     1691.94    1.03       0.00e+00   0.87       1359       XM_057717093\n",
            "PREDICTED: Tursiops                       1859.0     1677.52    1.02       0.00e+00   0.87       2379       XM_033847642\n",
            "PREDICTED: Physeter                       1847.0     1666.7     1.02       0.00e+00   0.87       1332       XM_007109420\n",
            "PREDICTED: Delphinap                      1835.0     1655.88    1.02       0.00e+00   0.87       1339       XM_022557923\n",
            "PREDICTED: Sus scrof                      1821.0     1643.25    1.02       0.00e+00   0.87       1406       XM_003131549\n",
            "PREDICTED: Neomonach                      1814.0     1636.94    1.01       0.00e+00   0.87       1343       XM_021704075\n",
            "PREDICTED: Halichoer                      1814.0     1636.94    1.01       0.00e+00   0.87       1389       XM_036092821\n",
            "PREDICTED: Mirounga                       1807.0     1630.63    1.01       0.00e+00   0.86       1343       XM_035026923\n",
            "PREDICTED: Mirounga                       1802.0     1626.12    1.01       0.00e+00   0.86       1343       XM_045889078\n",
            "PREDICTED: Phacochoe                      1786.0     1611.69    1.02       0.00e+00   0.87       1595       XM_047758209\n",
            "PREDICTED: Manis pen                      1773.0     1599.97    1.02       0.00e+00   0.86       1351       XM_036879775\n",
            "PREDICTED: Manis jav                      1760.0     1588.25    1.02       0.00e+00   0.86       1345       XM_036999134\n",
            "PREDICTED: Rhinopith                      1636.0     1476.44    0.64       0.00e+00   0.97       885        XM_010359636\n",
            "PREDICTED: Propithec                      1514.0     1366.44    0.62       0.00e+00   0.96       862        XM_012659986\n",
            "PREDICTED: Microcebu                      1510.0     1362.83    0.62       0.00e+00   0.96       868        XM_012766042\n",
            "CPU times: user 291 ms, sys: 59.1 ms, total: 350 ms\n",
            "Wall time: 1min 7s\n"
          ]
        }
      ]
    },
    {
      "cell_type": "markdown",
      "source": [
        "#teste"
      ],
      "metadata": {
        "id": "2EZZzpiJge-I"
      }
    },
    {
      "cell_type": "code",
      "source": [
        "result_handle"
      ],
      "metadata": {
        "colab": {
          "base_uri": "https://localhost:8080/"
        },
        "id": "C5TgiYgXRiH9",
        "outputId": "9c71da5c-b5a8-4ea7-eefd-78c1ed003739"
      },
      "execution_count": 19,
      "outputs": [
        {
          "output_type": "execute_result",
          "data": {
            "text/plain": [
              "<_io.StringIO at 0x78b2df6e9c60>"
            ]
          },
          "metadata": {},
          "execution_count": 19
        }
      ]
    },
    {
      "cell_type": "code",
      "source": [
        "import xml.etree.ElementTree as et\n",
        "arquivo = et.parse('teste.xml')\n",
        "raiz = arquivo.getroot()\n",
        "\n",
        "for filhas in raiz:\n",
        "    print(filhas.tag, filhas.attrib)"
      ],
      "metadata": {
        "colab": {
          "base_uri": "https://localhost:8080/"
        },
        "id": "UhfbZfywgdwx",
        "outputId": "66bcf044-eea7-4100-f6a6-daa1f94efa1a"
      },
      "execution_count": 21,
      "outputs": [
        {
          "output_type": "stream",
          "name": "stdout",
          "text": [
            "BlastOutput_program {}\n",
            "BlastOutput_version {}\n",
            "BlastOutput_reference {}\n",
            "BlastOutput_db {}\n",
            "BlastOutput_query-ID {}\n",
            "BlastOutput_query-def {}\n",
            "BlastOutput_query-len {}\n",
            "BlastOutput_param {}\n",
            "BlastOutput_iterations {}\n"
          ]
        }
      ]
    },
    {
      "cell_type": "code",
      "source": [
        "pd.read_xml ('teste.xml')"
      ],
      "metadata": {
        "colab": {
          "base_uri": "https://localhost:8080/",
          "height": 403
        },
        "id": "RxP2qIvskblL",
        "outputId": "ab1cf65c-beeb-421b-81ff-38ccec82bc60"
      },
      "execution_count": 15,
      "outputs": [
        {
          "output_type": "execute_result",
          "data": {
            "text/plain": [
              "  BlastOutput_program BlastOutput_version  \\\n",
              "0              blastn                None   \n",
              "1                None      BLASTN 2.14.1+   \n",
              "2                None                None   \n",
              "3                None                None   \n",
              "4                None                None   \n",
              "5                None                None   \n",
              "6                None                None   \n",
              "7                None                None   \n",
              "8                None                None   \n",
              "\n",
              "                               BlastOutput_reference BlastOutput_db  \\\n",
              "0                                               None           None   \n",
              "1                                               None           None   \n",
              "2  Stephen F. Altschul, Thomas L. Madden, Alejand...           None   \n",
              "3                                               None             nt   \n",
              "4                                               None           None   \n",
              "5                                               None           None   \n",
              "6                                               None           None   \n",
              "7                                               None           None   \n",
              "8                                               None           None   \n",
              "\n",
              "  BlastOutput_query-ID BlastOutput_query-def  BlastOutput_query-len  \\\n",
              "0                 None                  None                    NaN   \n",
              "1                 None                  None                    NaN   \n",
              "2                 None                  None                    NaN   \n",
              "3                 None                  None                    NaN   \n",
              "4          Query_29683                  None                    NaN   \n",
              "5                 None    No definition line                    NaN   \n",
              "6                 None                  None                 1363.0   \n",
              "7                 None                  None                    NaN   \n",
              "8                 None                  None                    NaN   \n",
              "\n",
              "   Parameters  Iteration  \n",
              "0         NaN        NaN  \n",
              "1         NaN        NaN  \n",
              "2         NaN        NaN  \n",
              "3         NaN        NaN  \n",
              "4         NaN        NaN  \n",
              "5         NaN        NaN  \n",
              "6         NaN        NaN  \n",
              "7         NaN        NaN  \n",
              "8         NaN        NaN  "
            ],
            "text/html": [
              "\n",
              "  <div id=\"df-23031526-d155-47c0-b731-926d3cc3304e\" class=\"colab-df-container\">\n",
              "    <div>\n",
              "<style scoped>\n",
              "    .dataframe tbody tr th:only-of-type {\n",
              "        vertical-align: middle;\n",
              "    }\n",
              "\n",
              "    .dataframe tbody tr th {\n",
              "        vertical-align: top;\n",
              "    }\n",
              "\n",
              "    .dataframe thead th {\n",
              "        text-align: right;\n",
              "    }\n",
              "</style>\n",
              "<table border=\"1\" class=\"dataframe\">\n",
              "  <thead>\n",
              "    <tr style=\"text-align: right;\">\n",
              "      <th></th>\n",
              "      <th>BlastOutput_program</th>\n",
              "      <th>BlastOutput_version</th>\n",
              "      <th>BlastOutput_reference</th>\n",
              "      <th>BlastOutput_db</th>\n",
              "      <th>BlastOutput_query-ID</th>\n",
              "      <th>BlastOutput_query-def</th>\n",
              "      <th>BlastOutput_query-len</th>\n",
              "      <th>Parameters</th>\n",
              "      <th>Iteration</th>\n",
              "    </tr>\n",
              "  </thead>\n",
              "  <tbody>\n",
              "    <tr>\n",
              "      <th>0</th>\n",
              "      <td>blastn</td>\n",
              "      <td>None</td>\n",
              "      <td>None</td>\n",
              "      <td>None</td>\n",
              "      <td>None</td>\n",
              "      <td>None</td>\n",
              "      <td>NaN</td>\n",
              "      <td>NaN</td>\n",
              "      <td>NaN</td>\n",
              "    </tr>\n",
              "    <tr>\n",
              "      <th>1</th>\n",
              "      <td>None</td>\n",
              "      <td>BLASTN 2.14.1+</td>\n",
              "      <td>None</td>\n",
              "      <td>None</td>\n",
              "      <td>None</td>\n",
              "      <td>None</td>\n",
              "      <td>NaN</td>\n",
              "      <td>NaN</td>\n",
              "      <td>NaN</td>\n",
              "    </tr>\n",
              "    <tr>\n",
              "      <th>2</th>\n",
              "      <td>None</td>\n",
              "      <td>None</td>\n",
              "      <td>Stephen F. Altschul, Thomas L. Madden, Alejand...</td>\n",
              "      <td>None</td>\n",
              "      <td>None</td>\n",
              "      <td>None</td>\n",
              "      <td>NaN</td>\n",
              "      <td>NaN</td>\n",
              "      <td>NaN</td>\n",
              "    </tr>\n",
              "    <tr>\n",
              "      <th>3</th>\n",
              "      <td>None</td>\n",
              "      <td>None</td>\n",
              "      <td>None</td>\n",
              "      <td>nt</td>\n",
              "      <td>None</td>\n",
              "      <td>None</td>\n",
              "      <td>NaN</td>\n",
              "      <td>NaN</td>\n",
              "      <td>NaN</td>\n",
              "    </tr>\n",
              "    <tr>\n",
              "      <th>4</th>\n",
              "      <td>None</td>\n",
              "      <td>None</td>\n",
              "      <td>None</td>\n",
              "      <td>None</td>\n",
              "      <td>Query_29683</td>\n",
              "      <td>None</td>\n",
              "      <td>NaN</td>\n",
              "      <td>NaN</td>\n",
              "      <td>NaN</td>\n",
              "    </tr>\n",
              "    <tr>\n",
              "      <th>5</th>\n",
              "      <td>None</td>\n",
              "      <td>None</td>\n",
              "      <td>None</td>\n",
              "      <td>None</td>\n",
              "      <td>None</td>\n",
              "      <td>No definition line</td>\n",
              "      <td>NaN</td>\n",
              "      <td>NaN</td>\n",
              "      <td>NaN</td>\n",
              "    </tr>\n",
              "    <tr>\n",
              "      <th>6</th>\n",
              "      <td>None</td>\n",
              "      <td>None</td>\n",
              "      <td>None</td>\n",
              "      <td>None</td>\n",
              "      <td>None</td>\n",
              "      <td>None</td>\n",
              "      <td>1363.0</td>\n",
              "      <td>NaN</td>\n",
              "      <td>NaN</td>\n",
              "    </tr>\n",
              "    <tr>\n",
              "      <th>7</th>\n",
              "      <td>None</td>\n",
              "      <td>None</td>\n",
              "      <td>None</td>\n",
              "      <td>None</td>\n",
              "      <td>None</td>\n",
              "      <td>None</td>\n",
              "      <td>NaN</td>\n",
              "      <td>NaN</td>\n",
              "      <td>NaN</td>\n",
              "    </tr>\n",
              "    <tr>\n",
              "      <th>8</th>\n",
              "      <td>None</td>\n",
              "      <td>None</td>\n",
              "      <td>None</td>\n",
              "      <td>None</td>\n",
              "      <td>None</td>\n",
              "      <td>None</td>\n",
              "      <td>NaN</td>\n",
              "      <td>NaN</td>\n",
              "      <td>NaN</td>\n",
              "    </tr>\n",
              "  </tbody>\n",
              "</table>\n",
              "</div>\n",
              "    <div class=\"colab-df-buttons\">\n",
              "\n",
              "  <div class=\"colab-df-container\">\n",
              "    <button class=\"colab-df-convert\" onclick=\"convertToInteractive('df-23031526-d155-47c0-b731-926d3cc3304e')\"\n",
              "            title=\"Convert this dataframe to an interactive table.\"\n",
              "            style=\"display:none;\">\n",
              "\n",
              "  <svg xmlns=\"http://www.w3.org/2000/svg\" height=\"24px\" viewBox=\"0 -960 960 960\">\n",
              "    <path d=\"M120-120v-720h720v720H120Zm60-500h600v-160H180v160Zm220 220h160v-160H400v160Zm0 220h160v-160H400v160ZM180-400h160v-160H180v160Zm440 0h160v-160H620v160ZM180-180h160v-160H180v160Zm440 0h160v-160H620v160Z\"/>\n",
              "  </svg>\n",
              "    </button>\n",
              "\n",
              "  <style>\n",
              "    .colab-df-container {\n",
              "      display:flex;\n",
              "      gap: 12px;\n",
              "    }\n",
              "\n",
              "    .colab-df-convert {\n",
              "      background-color: #E8F0FE;\n",
              "      border: none;\n",
              "      border-radius: 50%;\n",
              "      cursor: pointer;\n",
              "      display: none;\n",
              "      fill: #1967D2;\n",
              "      height: 32px;\n",
              "      padding: 0 0 0 0;\n",
              "      width: 32px;\n",
              "    }\n",
              "\n",
              "    .colab-df-convert:hover {\n",
              "      background-color: #E2EBFA;\n",
              "      box-shadow: 0px 1px 2px rgba(60, 64, 67, 0.3), 0px 1px 3px 1px rgba(60, 64, 67, 0.15);\n",
              "      fill: #174EA6;\n",
              "    }\n",
              "\n",
              "    .colab-df-buttons div {\n",
              "      margin-bottom: 4px;\n",
              "    }\n",
              "\n",
              "    [theme=dark] .colab-df-convert {\n",
              "      background-color: #3B4455;\n",
              "      fill: #D2E3FC;\n",
              "    }\n",
              "\n",
              "    [theme=dark] .colab-df-convert:hover {\n",
              "      background-color: #434B5C;\n",
              "      box-shadow: 0px 1px 3px 1px rgba(0, 0, 0, 0.15);\n",
              "      filter: drop-shadow(0px 1px 2px rgba(0, 0, 0, 0.3));\n",
              "      fill: #FFFFFF;\n",
              "    }\n",
              "  </style>\n",
              "\n",
              "    <script>\n",
              "      const buttonEl =\n",
              "        document.querySelector('#df-23031526-d155-47c0-b731-926d3cc3304e button.colab-df-convert');\n",
              "      buttonEl.style.display =\n",
              "        google.colab.kernel.accessAllowed ? 'block' : 'none';\n",
              "\n",
              "      async function convertToInteractive(key) {\n",
              "        const element = document.querySelector('#df-23031526-d155-47c0-b731-926d3cc3304e');\n",
              "        const dataTable =\n",
              "          await google.colab.kernel.invokeFunction('convertToInteractive',\n",
              "                                                    [key], {});\n",
              "        if (!dataTable) return;\n",
              "\n",
              "        const docLinkHtml = 'Like what you see? Visit the ' +\n",
              "          '<a target=\"_blank\" href=https://colab.research.google.com/notebooks/data_table.ipynb>data table notebook</a>'\n",
              "          + ' to learn more about interactive tables.';\n",
              "        element.innerHTML = '';\n",
              "        dataTable['output_type'] = 'display_data';\n",
              "        await google.colab.output.renderOutput(dataTable, element);\n",
              "        const docLink = document.createElement('div');\n",
              "        docLink.innerHTML = docLinkHtml;\n",
              "        element.appendChild(docLink);\n",
              "      }\n",
              "    </script>\n",
              "  </div>\n",
              "\n",
              "\n",
              "<div id=\"df-466b8209-639b-48dd-b80e-b6e848201485\">\n",
              "  <button class=\"colab-df-quickchart\" onclick=\"quickchart('df-466b8209-639b-48dd-b80e-b6e848201485')\"\n",
              "            title=\"Suggest charts.\"\n",
              "            style=\"display:none;\">\n",
              "\n",
              "<svg xmlns=\"http://www.w3.org/2000/svg\" height=\"24px\"viewBox=\"0 0 24 24\"\n",
              "     width=\"24px\">\n",
              "    <g>\n",
              "        <path d=\"M19 3H5c-1.1 0-2 .9-2 2v14c0 1.1.9 2 2 2h14c1.1 0 2-.9 2-2V5c0-1.1-.9-2-2-2zM9 17H7v-7h2v7zm4 0h-2V7h2v10zm4 0h-2v-4h2v4z\"/>\n",
              "    </g>\n",
              "</svg>\n",
              "  </button>\n",
              "\n",
              "<style>\n",
              "  .colab-df-quickchart {\n",
              "      --bg-color: #E8F0FE;\n",
              "      --fill-color: #1967D2;\n",
              "      --hover-bg-color: #E2EBFA;\n",
              "      --hover-fill-color: #174EA6;\n",
              "      --disabled-fill-color: #AAA;\n",
              "      --disabled-bg-color: #DDD;\n",
              "  }\n",
              "\n",
              "  [theme=dark] .colab-df-quickchart {\n",
              "      --bg-color: #3B4455;\n",
              "      --fill-color: #D2E3FC;\n",
              "      --hover-bg-color: #434B5C;\n",
              "      --hover-fill-color: #FFFFFF;\n",
              "      --disabled-bg-color: #3B4455;\n",
              "      --disabled-fill-color: #666;\n",
              "  }\n",
              "\n",
              "  .colab-df-quickchart {\n",
              "    background-color: var(--bg-color);\n",
              "    border: none;\n",
              "    border-radius: 50%;\n",
              "    cursor: pointer;\n",
              "    display: none;\n",
              "    fill: var(--fill-color);\n",
              "    height: 32px;\n",
              "    padding: 0;\n",
              "    width: 32px;\n",
              "  }\n",
              "\n",
              "  .colab-df-quickchart:hover {\n",
              "    background-color: var(--hover-bg-color);\n",
              "    box-shadow: 0 1px 2px rgba(60, 64, 67, 0.3), 0 1px 3px 1px rgba(60, 64, 67, 0.15);\n",
              "    fill: var(--button-hover-fill-color);\n",
              "  }\n",
              "\n",
              "  .colab-df-quickchart-complete:disabled,\n",
              "  .colab-df-quickchart-complete:disabled:hover {\n",
              "    background-color: var(--disabled-bg-color);\n",
              "    fill: var(--disabled-fill-color);\n",
              "    box-shadow: none;\n",
              "  }\n",
              "\n",
              "  .colab-df-spinner {\n",
              "    border: 2px solid var(--fill-color);\n",
              "    border-color: transparent;\n",
              "    border-bottom-color: var(--fill-color);\n",
              "    animation:\n",
              "      spin 1s steps(1) infinite;\n",
              "  }\n",
              "\n",
              "  @keyframes spin {\n",
              "    0% {\n",
              "      border-color: transparent;\n",
              "      border-bottom-color: var(--fill-color);\n",
              "      border-left-color: var(--fill-color);\n",
              "    }\n",
              "    20% {\n",
              "      border-color: transparent;\n",
              "      border-left-color: var(--fill-color);\n",
              "      border-top-color: var(--fill-color);\n",
              "    }\n",
              "    30% {\n",
              "      border-color: transparent;\n",
              "      border-left-color: var(--fill-color);\n",
              "      border-top-color: var(--fill-color);\n",
              "      border-right-color: var(--fill-color);\n",
              "    }\n",
              "    40% {\n",
              "      border-color: transparent;\n",
              "      border-right-color: var(--fill-color);\n",
              "      border-top-color: var(--fill-color);\n",
              "    }\n",
              "    60% {\n",
              "      border-color: transparent;\n",
              "      border-right-color: var(--fill-color);\n",
              "    }\n",
              "    80% {\n",
              "      border-color: transparent;\n",
              "      border-right-color: var(--fill-color);\n",
              "      border-bottom-color: var(--fill-color);\n",
              "    }\n",
              "    90% {\n",
              "      border-color: transparent;\n",
              "      border-bottom-color: var(--fill-color);\n",
              "    }\n",
              "  }\n",
              "</style>\n",
              "\n",
              "  <script>\n",
              "    async function quickchart(key) {\n",
              "      const quickchartButtonEl =\n",
              "        document.querySelector('#' + key + ' button');\n",
              "      quickchartButtonEl.disabled = true;  // To prevent multiple clicks.\n",
              "      quickchartButtonEl.classList.add('colab-df-spinner');\n",
              "      try {\n",
              "        const charts = await google.colab.kernel.invokeFunction(\n",
              "            'suggestCharts', [key], {});\n",
              "      } catch (error) {\n",
              "        console.error('Error during call to suggestCharts:', error);\n",
              "      }\n",
              "      quickchartButtonEl.classList.remove('colab-df-spinner');\n",
              "      quickchartButtonEl.classList.add('colab-df-quickchart-complete');\n",
              "    }\n",
              "    (() => {\n",
              "      let quickchartButtonEl =\n",
              "        document.querySelector('#df-466b8209-639b-48dd-b80e-b6e848201485 button');\n",
              "      quickchartButtonEl.style.display =\n",
              "        google.colab.kernel.accessAllowed ? 'block' : 'none';\n",
              "    })();\n",
              "  </script>\n",
              "</div>\n",
              "    </div>\n",
              "  </div>\n"
            ]
          },
          "metadata": {},
          "execution_count": 15
        }
      ]
    },
    {
      "cell_type": "markdown",
      "source": [
        "## <font color=2C3E50><b>06. Dataset, Visualização e plotly</b>\n",
        "<hr>"
      ],
      "metadata": {
        "id": "HYC1ndmDBXE-"
      }
    },
    {
      "cell_type": "code",
      "source": [
        "import pandas as pd\n",
        "#from google.colab import data_table"
      ],
      "metadata": {
        "id": "0S9dFk7eBlW6"
      },
      "execution_count": null,
      "outputs": []
    },
    {
      "cell_type": "code",
      "source": [
        "dataset = pd.DataFrame({\"Sequência 5'➔ 3'\": siRNA_verificados,\n",
        "                        \"Score\": score,\n",
        "                        \"Temperatura de Melting\": tm,\n",
        "                        \"Conteudo CG\": conteudo_gc})\n",
        "dataset = dataset.sort_values(by=[\"Score\"], ascending=False, ignore_index=True)"
      ],
      "metadata": {
        "id": "fA8FcwppQPh9"
      },
      "execution_count": null,
      "outputs": []
    },
    {
      "cell_type": "code",
      "source": [
        "dataset"
      ],
      "metadata": {
        "id": "6VBOr_xqQnB9"
      },
      "execution_count": null,
      "outputs": []
    }
  ]
}