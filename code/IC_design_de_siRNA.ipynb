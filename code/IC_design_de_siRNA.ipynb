{
  "nbformat": 4,
  "nbformat_minor": 0,
  "metadata": {
    "colab": {
      "provenance": [],
      "collapsed_sections": [
        "XgQumBHZUa4E"
      ],
      "authorship_tag": "ABX9TyNgedlGaKWqhb6N05nT9kUi",
      "include_colab_link": true
    },
    "kernelspec": {
      "name": "python3",
      "display_name": "Python 3"
    },
    "language_info": {
      "name": "python"
    }
  },
  "cells": [
    {
      "cell_type": "markdown",
      "metadata": {
        "id": "view-in-github",
        "colab_type": "text"
      },
      "source": [
        "<a href=\"https://colab.research.google.com/github/CatarinaRRF/IC_design_de_siRNA/blob/main/code/IC_design_de_siRNA.ipynb\" target=\"_parent\"><img src=\"https://colab.research.google.com/assets/colab-badge.svg\" alt=\"Open In Colab\"/></a>"
      ]
    },
    {
      "cell_type": "markdown",
      "source": [
        "# <b><font color=2C3E50> IC - Design de siRNA</a></font></b>\n",
        "<hr color ='2C3E50' size=\"10\">"
      ],
      "metadata": {
        "id": "hIAEY7l_ZH45"
      }
    },
    {
      "cell_type": "markdown",
      "source": [
        "## <font color=2C3E50><b> 01. Introdução</b>"
      ],
      "metadata": {
        "id": "XgQumBHZUa4E"
      }
    },
    {
      "cell_type": "markdown",
      "source": [
        "Com a crescente importância das pesquisas em biologia molecular e terapia genética, a identificação e seleção eficiente de pequenas moléculas de RNA interferente (siRNA) tornaram-se cruciais para a regulação precisa da expressão gênica.\n",
        "\n",
        "Nesse contexto, se faz necessario a criação de algoritmo capaz de automatizar e aprimorar o processo de escolha de siRNA. Ao integrar dados genômicos, informações sobre o alvo gênico e considerações terapêuticas, o algoritmo visa simplificar a complexidade inerente à seleção de siRNA, oferecendo aos pesquisadores uma ferramenta confiável para acelerar suas investigações e aplicações práticas.\n",
        "\n",
        "O algoritimo utiliza do banco de dados mantido pelo NCBI <i>gene</i> onde, a partir dos codigo do gene de interesse fornecido pelo usuario, será analizado a viabilidade dos possiveis siRNA produzidos. Segue o desenho esquematico da logica do programa.\n",
        "\n",
        "\n",
        "<img style=\"display: inline; margin: 15px 0;\" title=\"heartica_logo\" src= https://raw.githubusercontent.com/CatarinaRRF/IC_design_de_siRNA/main/media/siRNA.drawio%20.png alt=\"\" />"
      ],
      "metadata": {
        "id": "yBXt0VCVkad3"
      }
    },
    {
      "cell_type": "markdown",
      "source": [
        "## <font color=2C3E50><b> 02.Buscando o Codigo</b>\n",
        "\n"
      ],
      "metadata": {
        "id": "XUZGx3UHm-OQ"
      }
    },
    {
      "cell_type": "markdown",
      "source": [
        "Bloco de código onde o usuário entra com o nome do genes (HOXB7) a pesquisar no portal NCBI, após a pesquisa, será exibido detalhes do genes, e será salvo automaticamente no formato fasta\n",
        "\n",
        "email = catarinafreitas1605@gmail.com"
      ],
      "metadata": {
        "id": "yLVmUNTOofKX"
      }
    },
    {
      "cell_type": "markdown",
      "source": [
        "<font color=82D712><b>Importando Bibliotecas"
      ],
      "metadata": {
        "id": "a16tZKH4pLOd"
      }
    },
    {
      "cell_type": "code",
      "source": [
        "pip install biopython"
      ],
      "metadata": {
        "colab": {
          "base_uri": "https://localhost:8080/"
        },
        "id": "XV6GGbEXXCAk",
        "outputId": "fe4e186c-ea2d-404a-8fe4-db72c5df4331"
      },
      "execution_count": 100,
      "outputs": [
        {
          "output_type": "stream",
          "name": "stdout",
          "text": [
            "Requirement already satisfied: biopython in /usr/local/lib/python3.10/dist-packages (1.81)\n",
            "Requirement already satisfied: numpy in /usr/local/lib/python3.10/dist-packages (from biopython) (1.23.5)\n"
          ]
        }
      ]
    },
    {
      "cell_type": "code",
      "source": [
        "import Bio\n",
        "from Bio import Entrez\n",
        "from Bio import SeqIO\n",
        "from Bio.Seq import Seq"
      ],
      "metadata": {
        "id": "5czcPOfzVrt3"
      },
      "execution_count": 101,
      "outputs": []
    },
    {
      "cell_type": "markdown",
      "source": [
        "<font color=82D712><b> Buscando os dados"
      ],
      "metadata": {
        "id": "L7QV3h78pPqV"
      }
    },
    {
      "cell_type": "code",
      "source": [
        "def search_and_save(gene_name, email):\n",
        "    Entrez.email = email\n",
        "    handle = Entrez.esearch(db=\"gene\", term=gene_name)\n",
        "    record = Entrez.read(handle)\n",
        "    handle.close()\n",
        "\n",
        "    if record[\"Count\"] == \"0\":\n",
        "        print(\"Nenhum gene encontrado com o nome fornecido.\")\n",
        "        return\n",
        "\n",
        "    id_list = record[\"IdList\"]\n",
        "    handle = Entrez.efetch(db=\"nucleotide\", id=id_list[0], rettype=\"fasta\", retmode=\"text\")\n",
        "    seq_record = SeqIO.read(handle, \"fasta\")\n",
        "    handle.close()\n",
        "\n",
        "    SeqIO.write(seq_record, f\"{gene_name}.fasta\", \"fasta\")\n",
        "\n",
        "    #print(f\"Nome: {seq_record.name}\")\n",
        "    #print(f\"ID: {seq_record.id}\")\n",
        "    #print(f\"Descrição: {seq_record.description}\")\n",
        "    #print(f\"Tamanho: {len(seq_record)}\")\n",
        "    #print(f\"Sequência: {seq_record.seq}\")\n",
        "    return seq_record\n",
        "\n",
        "#gene_name = input(\"Digite o nome do gene que deseja buscar: \")\n",
        "#email = input(\"Digite o seu email: \")\n",
        "gene_name = \"HOXB7\"\n",
        "email = \"catarinafreitas1605@gmail.com\"\n",
        "\n",
        "seq_record = search_and_save(gene_name, email)\n",
        "seq_record"
      ],
      "metadata": {
        "colab": {
          "base_uri": "https://localhost:8080/"
        },
        "id": "339ebQtxnAjP",
        "outputId": "e8f3c215-2f84-4e74-cf1d-e4a8ddb6550f"
      },
      "execution_count": 102,
      "outputs": [
        {
          "output_type": "execute_result",
          "data": {
            "text/plain": [
              "SeqRecord(seq=Seq('AGTACAAGGGCCAATTACAGAGGCTTCGAATGGTGGACAGGCACCGAGTGGAGC...TTA'), id='AACY021969827.1', name='AACY021969827.1', description='AACY021969827.1 Marine metagenome 1091140274210, whole genome shotgun sequence', dbxrefs=[])"
            ]
          },
          "metadata": {},
          "execution_count": 102
        }
      ]
    },
    {
      "cell_type": "markdown",
      "source": [
        "# <font color=2C3E50><b> 03.Construção dos possiveis siRNA</b>\n",
        "<hr>"
      ],
      "metadata": {
        "id": "grnUxxRBYTh7"
      }
    },
    {
      "cell_type": "markdown",
      "source": [
        "\n",
        "Bloco de codigo onde se vai trascrever o codigo, e retirar as sequencias possiveis de miRNA"
      ],
      "metadata": {
        "id": "K4Q2jS4moooF"
      }
    },
    {
      "cell_type": "markdown",
      "source": [
        "<font color=82D712><b>Importando Bibliotecas"
      ],
      "metadata": {
        "id": "xPO7iPxXpb_-"
      }
    },
    {
      "cell_type": "code",
      "source": [],
      "metadata": {
        "id": "yywKKrRFYphQ"
      },
      "execution_count": 102,
      "outputs": []
    },
    {
      "cell_type": "markdown",
      "source": [
        "# <font color=2C3E50><b> 04. Classificação dos siRNA</b>\n",
        "<hr>"
      ],
      "metadata": {
        "id": "BOfwYk-gplMM"
      }
    },
    {
      "cell_type": "markdown",
      "source": [
        "Os criterios determinados por Reynolds et al. (2004), Ui-Tei et al. (2004) e Amarzguioui et al. são o Conteúdo CG%, temperatura de melting e a estabilidade interna baixa.\n",
        "\n",
        "Caso estes criterios sejam respeitados as sequências são funcionais. Os ranking de importancia para estes criterios são os seguintes:\n",
        "\n",
        "|Rank|Critérios|score|\n",
        "|----|---------|-----|\n",
        "|1|Ausência de repetições invertidas que formariam hairpin (Tm)| - |\n",
        "|2| Estabilidade interna baixa | 2|\n",
        "|3| Baixo GC | 1|\n",
        "|4| Posições específicas | 1|\n",
        "\n",
        "Dessa forma, os siRNA candidatos iram passar por esses critérios para se determinar quais tem mais chance de se tornarem viaveis. Para o primeiro criterio os siRNA que não se enquadrarem seram descartados, para os demais será atribuido um score, para aqueles que entrarem em conformidade com o 2° criterio receberam um score de 2, conformidade com o 3 e o 4 daram 1 ponto.\n",
        "\n",
        "É importante ressaltar que no caso das posições especificas cada posição dará 1 ponto, para aquelas que possuem posições onde há um nucleotido ideial, a não confomidade retribuirá 0 pts, já nas posições onde o nucleotido precisa ser especifico será dado -1 pt.\n",
        "\n",
        "O siRNA ideal deve então possuir um total de pontos entre 3 < siRNA_score < 8\n",
        "\n",
        "> <font color=Red>Tem que concertar a Estabilidade interna baixa, o criterio ta multiplicando o 2 para cada letra no intervalo. </font>\n",
        "\n",
        "<hr>\n",
        "\n",
        "> <font size=\"2.5\"> codigo usado como base de biologyguy in <a href=\"https://github.com/biologyguy/public_scripts/blob/master/siRNA_predict.py\" rel=\"\">github</a>"
      ],
      "metadata": {
        "id": "MDEK-zEJoxm9"
      }
    },
    {
      "cell_type": "markdown",
      "source": [
        "<font color=82D712><b>Importando Bibliotecas"
      ],
      "metadata": {
        "id": "jLArPdYwpdhe"
      }
    },
    {
      "cell_type": "code",
      "source": [
        "import re\n",
        "from Bio.SeqUtils import MeltingTemp as mt\n",
        "from Bio.SeqUtils import gc_fraction\n",
        "from Bio.Seq import Seq"
      ],
      "metadata": {
        "id": "yIe4RTYsz3em"
      },
      "execution_count": 103,
      "outputs": []
    },
    {
      "cell_type": "markdown",
      "source": [
        "<font color=82D712><b>Determinando a qualidade do siRNA"
      ],
      "metadata": {
        "id": "Z7i74cINpe_V"
      }
    },
    {
      "cell_type": "code",
      "source": [
        "def siRNA_score (sequence):\n",
        "  score = 0\n",
        "\n",
        "  # Ausência de repetições invertidas (Tm_GC)\n",
        "  tm = round(mt.Tm_GC(sequence, strict=False), 2)\n",
        "  #tm_antisenso = round(mt.Tm_GC(sequence.complement(), strict=False), 2)\n",
        "  #score_termodynamic = tm - tm_antisenso\n",
        "  if tm > 0:\n",
        "    print(\"não é um siRNA funcional\") #trocar para delete() quando a lista de rna for produzida\n",
        "\n",
        "  # Estabilidade interna baixa\n",
        "  for letra in sequence[14:19]:\n",
        "    if letra == \"A\" or letra == \"U\":\n",
        "      score += 2\n",
        "    else:\n",
        "      score -= 2\n",
        "\n",
        "  # Conteudo Baixo GC\n",
        "  #conteudo_gc = round((len(re.findall(\"C\", sequence[14:]))/len(re.findall(\"G\", sequence[14:])))*100, 2)\n",
        "  conteudo_gc = gc_fraction(sequence)*100\n",
        "  if 30 <= conteudo_gc <= 52:\n",
        "    score += 1\n",
        "\n",
        "  # Posições específicas - Critérios REYNOLDS et al. (2004) e AMARZGUIOUI et al. (2004)\n",
        "  if seq_record.seq[0] == \"A\" or seq_record.seq[9] != \"U\":\n",
        "    score += 1\n",
        "  if seq_record.seq[5] == \"A\":\n",
        "    score += 1\n",
        "  else: score -= 1\n",
        "  if seq_record.seq[9] == \"U\":\n",
        "    score += 1\n",
        "  if seq_record.seq[9] != \"G\":\n",
        "    score += 1\n",
        "  else: score -= 1\n",
        "  if seq_record.seq[18] != \"G\" and seq_record.seq[18] != \"C\":\n",
        "    score += 1\n",
        "  else: score -= 1\n",
        "  if seq_record.seq[18] == \"A\":\n",
        "    score += 1\n",
        "  else: score -= 1\n",
        "\n",
        "  return conteudo_gc, tm, score\n",
        "\n",
        "siRNA_score (seq_record)"
      ],
      "metadata": {
        "colab": {
          "base_uri": "https://localhost:8080/"
        },
        "id": "whJb5xJ1zbda",
        "outputId": "0bb236ba-65d8-49d9-d5e6-d8511b8f9d0b"
      },
      "execution_count": 104,
      "outputs": [
        {
          "output_type": "stream",
          "name": "stdout",
          "text": [
            "não é um siRNA funcional\n"
          ]
        },
        {
          "output_type": "execute_result",
          "data": {
            "text/plain": [
              "(45.750262329485835, 73.98, 2)"
            ]
          },
          "metadata": {},
          "execution_count": 104
        }
      ]
    },
    {
      "cell_type": "markdown",
      "source": [
        "# <font color=2C3E50><b>05. Blast</b>\n",
        "\n"
      ],
      "metadata": {
        "id": "TLhU0AHFtzkY"
      }
    },
    {
      "cell_type": "markdown",
      "source": [
        "Essa parte é especializada em trazer as informações BLAST do arquivo fasta, porém o processamento é online, demorando alguns minutos <b>[valdeir]</b>"
      ],
      "metadata": {
        "id": "SAbSkREIo6Al"
      }
    },
    {
      "cell_type": "markdown",
      "source": [
        "<font color=82D712><b>Importando Bibliotecas"
      ],
      "metadata": {
        "id": "eFTWUzXipocM"
      }
    },
    {
      "cell_type": "code",
      "source": [],
      "metadata": {
        "id": "NfAxU8rxq91G"
      },
      "execution_count": null,
      "outputs": []
    }
  ]
}